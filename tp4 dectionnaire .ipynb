{
 "cells": [
  {
   "cell_type": "markdown",
   "id": "2ed39890",
   "metadata": {},
   "source": [
    "4 - Les dictionnaires en Python"
   ]
  },
  {
   "cell_type": "markdown",
   "id": "ac7097b6",
   "metadata": {},
   "source": [
    "On considère les trois dictionnaires Pythons qui regroupe la totalité du matériels informatiques:\n",
    "dicPC={\"HP\": 11 , \"Acer\": 7 , \"Lenovo\": 17 , \"Del\": 23}\n",
    "dicPhone={\"Sumsung\": 22 , \"Iphone\": 9 , \"Other\": 13 }\n",
    "dicTablette = {\"Sumsung\": 15 , \"Other\": 13}\n",
    "Écrire un programme Python qui regroupe en concaténant ces trois dictionnaires en un seule avec deux méthodes différentes"
   ]
  },
  {
   "cell_type": "code",
   "execution_count": null,
   "id": "bbfba14b",
   "metadata": {},
   "outputs": [],
   "source": [
    "dicPC={\"HP\": 11 , \"Acer\": 7 , \"Lenovo\": 17 , \"Del\": 23}\n",
    "dicPhone={\"Sumsung\": 22 , \"Iphone\": 9 , \"Other\": 13 }\n",
    "dicTablette = {\"Sumsung\": 15 , \"Other\": 13}\n",
    "\n",
    "# on crée un dictionnaire vide qui va contenir les autres dictionnaires\n",
    "dicTotal = {}\n",
    "\n",
    "# on ajoute les dictionnaire un par un via la méthode update\n",
    "dicTotal.update(dicPC)\n",
    "dicTotal.update(dicPhone)\n",
    "dicTotal.update(dicTablette)\n",
    "print(dicTotal)"
   ]
  },
  {
   "cell_type": "markdown",
   "id": "bb0fee65",
   "metadata": {},
   "source": [
    "2ème méthode"
   ]
  },
  {
   "cell_type": "code",
   "execution_count": null,
   "id": "0cff436a",
   "metadata": {},
   "outputs": [],
   "source": [
    "dicPC={\"HP\": 11 , \"Acer\": 7 , \"Lenovo\": 17 , \"Del\": 23}\n",
    "dicPhone={\"Sumsung\": 22 , \"Iphone\": 9 , \"Other\": 13 }\n",
    "dicTablette = {\"Sumsung\": 15 , \"Other\": 13}\n",
    "# on crée un dictionnaire qui va contenir les autres \n",
    "dicTotal = {}\n",
    "# on ajoute les dictionnaires via la boucle for\n",
    "for d in [dicPC , dicTablette, dicPhone]:\n",
    "    dicTotal.update(d)\n",
    "\n",
    "print(dicTotal)"
   ]
  },
  {
   "cell_type": "markdown",
   "id": "7871a508",
   "metadata": {},
   "source": [
    "On considère le dictionnaire suivant dont les clés sont les noms des élèves et les valeurs des clés sont les moyennes générales obtenues en passant l'examen final:\n",
    "\n",
    "etudiants = {\"etudiant_1\" : 13 , \"etudiant_2\" : 17 , \"etudiant_3\" : 9 , \"etudiant_4\" : 15 , \n",
    "\t\t\t \"etudiant_5\" : 8 , \"etudiant_6\" : 14 , \"etudiant_7\" : 16 , \"etudiant_8\" : 12 , \n",
    "\t\t\t \"etudiant_9\" : 13 , \"etudiant_10\" : 15 , \"etudiant_11\" : 14 , \"etudiant_112\" : 9 , \n",
    "\t\t\t \"etudiant_13\" : 10 , \"etudiant_14\" : 12 , \"etudiant_15\" : 13 , \"etudiant_16\" : 7 ,\n",
    "\t\t\t \"etudiant_17\" : 12 , \"etudiant_18\" : 15 , \"etudiant_19\" : 9 , \"etudiant_20\" : 17 ,}\n",
    "Ecrire un programme Python qui partitionne  ce dictionnaire en deux sous dictionnaires:\n",
    "\n",
    "1- etudiantAdmis  dont les clés sont les étudiants admis et les valeurs des clés sont les moyennes obtenues (moyenne supérieurs ou égales à 10 ).\n",
    "2- etudiantNonAdmis dont les clés sont les étudiants non admis et les valeurs des clés sont les moyennes obtenues (moyenne inférieur ou égale à 10).             "
   ]
  },
  {
   "cell_type": "code",
   "execution_count": null,
   "id": "776efb4b",
   "metadata": {},
   "outputs": [],
   "source": [
    "etudiants = {\"etudiant_1\" : 13 , \"etudiant_2\" : 17 , \"etudiant_3\" : 9 , \"etudiant_4\" : 15 , \n",
    "             \"etudiant_5\" : 8 , \"etudiant_6\" : 14 , \"etudiant_7\" : 16 , \"etudiant_8\" : 12 , \n",
    "\t\t\t \"etudiant_9\" : 13 , \"etudiant_10\" : 15 , \"etudiant_11\" : 14 , \"etudiant_112\" : 9 , \n",
    "             \"etudiant_13\" : 10 , \"etudiant_14\" : 12 , \"etudiant_15\" : 13 , \"etudiant_16\" : 7 ,\n",
    "\t\t\t \"etudiant_17\" : 12 , \"etudiant_18\" : 15 , \"etudiant_19\" : 9 , \"etudiant_20\" : 17 ,}\n",
    "\n",
    "# on crée  deux dictionnaires vides un pour les admis et l'autre pour les non admis\n",
    "etudiantAdmis = dict({})\n",
    "etudiantNonAdmis = dict({})\n",
    "\n",
    "# on parcourt la liste des clés et des valeurs simultanément:\n",
    "# si la clé est < 10 l'étudiant sera ajouté au dictionnaire des étudiants non admis\n",
    "# si non l'étudiant sera ajouté au dictionnaire des étudiants admis\n",
    "for key , valeur in etudiants.items():\n",
    "    if(valeur < 10):\n",
    "        etudiantNonAdmis[key] = valeur\n",
    "    else:\n",
    "        etudiantAdmis[key] = valeur\n",
    "        \n",
    "print(\"Les etudiants admis : \" , etudiantAdmis)\n",
    "print(\"Les etudiants non admis : \" , etudiantNonAdmis)"
   ]
  },
  {
   "cell_type": "markdown",
   "id": "47a3f11a",
   "metadata": {},
   "source": [
    "Ecrire un programme Python qui permet de créer à partir d'un entier  entier n saisi au clavier , un dictionnaire formé des entiers de 1 à n et de leurs carrées. Exemple pour n = 7 le dictionnaire sera de la forme:\n",
    "{1: 1, 2: 4, 3: 9, 4: 16, 5: 25 , 6: 36 , 7: 49}"
   ]
  },
  {
   "cell_type": "code",
   "execution_count": null,
   "id": "b9d8bc52",
   "metadata": {},
   "outputs": [],
   "source": [
    "# on demande à l'utilisateur de saisir un entier n\n",
    "n = int(input(\"Entrer la valeur de n\"))\n",
    "\n",
    "# on crée un dictionnaire vide qui va contenir les nombre n et leurs carrée\n",
    "d = dict({})\n",
    "\n",
    "# on fait le parcourt des entiers de 1 à n\n",
    "for i in range(1 , n+1):\n",
    "    d[i] = i*i\n",
    "\n",
    "print(d)"
   ]
  },
  {
   "cell_type": "markdown",
   "id": "f9d3297a",
   "metadata": {},
   "source": [
    "Écrire un programme en Python qui demande à l'utilisateur de saisir une une chaine de caractère, et de lui renvoyer un dictionnaire dont les clés sont les caractères de la chaine saisie et les valeurs sont les nombres d’occurrences des caractères dans la chaine. Exemple pour la chaine s = \"langage\" , le programme renvoie le dictionnaire:\n",
    "d = {'l':1 , 'a':2 , 'n':1 , 'g':2 , 'e':1}"
   ]
  },
  {
   "cell_type": "code",
   "execution_count": null,
   "id": "f4835a04",
   "metadata": {},
   "outputs": [],
   "source": [
    "s = \"langage\"\n",
    " \n",
    "# initialisation du dictionnaire \n",
    "d = dict({})\n",
    " \n",
    "# on parcourt les caractères de la chaine s\n",
    "for c in s:\n",
    "    d[c] = s.count(c)\n",
    "    \n",
    "print(d)"
   ]
  },
  {
   "cell_type": "markdown",
   "id": "dad31a03",
   "metadata": {},
   "source": [
    "Même exercice que le précédent mais cette fois à la place des occurrences mettre les positions des caractères. Exemple pour la chaine s = 'langage', le programme renvoie le dictionnaire :\n",
    "    d = {'l':0 , 'a':1 , 'n':2 , 'g':3 , 'e':6}"
   ]
  },
  {
   "cell_type": "code",
   "execution_count": null,
   "id": "66ab7b6a",
   "metadata": {},
   "outputs": [],
   "source": [
    "s = \"langage\"\n",
    "\n",
    "# création d'un dictionnaire vide qui va contenir les résultats\n",
    "d = dict({})\n",
    "\n",
    "# parcourir les caractères de la chaine\n",
    "for x in s:\n",
    "\t# ajout des chaque caractère avec son nombre d'occurrences\n",
    "    d[x] = s.count(x)\n",
    "print(d)\n",
    "# Affiche : {'l': 1, 'a': 2, 'n': 1, 'g': 2, 'e': 1}"
   ]
  },
  {
   "cell_type": "markdown",
   "id": "2daa8b14",
   "metadata": {},
   "source": [
    "Écrire une fonction en Python qui prends en paramètre une liste de  nombres entiers et qui renvoie un dictionnaire dont les clés sont les entiers de la liste et dont les valeurs sont 'pair' ou 'impair' selon la parité du nombre."
   ]
  },
  {
   "cell_type": "code",
   "execution_count": null,
   "id": "ca1735bc",
   "metadata": {},
   "outputs": [],
   "source": [
    "def listToDict(l):\n",
    "    \n",
    "    # création d'un dictionnaire vide pour récupérer les résultats\n",
    "    dictParity = dict()\n",
    "    \n",
    "    # parcourir les éléments de la liste et tester leur parité\n",
    "    for x in l:\n",
    "        if x%2 == 0:\n",
    "            dictParity[x] = 'Pair'\n",
    "        else:\n",
    "            dictParity[x] = 'Impair'\n",
    "    return dictParity\n",
    "# Faire un test :\n",
    "l = [24 , 14 , 3 , 36 , 41 , 22 , 15]\n",
    "print(listToDict(l))\n",
    "# La sortie est: {24: 'Pair', 14: 'Pair', 3: 'Impair', 36: 'Pair', 41: 'Impair', 22: 'Pair', 15: 'Impair'}"
   ]
  },
  {
   "cell_type": "markdown",
   "id": "0e0e9e91",
   "metadata": {},
   "source": [
    "Écrire un programme en Python qui demande à l'utilisateur de saisir dix nombres entiers de son choix et de lui renvoyer un dictionnaire dont les clés sont les entiers saisis et dont les valeurs sont les listes des diviseurs des nombres saisis. Exemple si l'utilisateur saisi les nombres : 2  , 7  , 11 , 5  , 3  , 19 , 14 ,  9 , 1 , 4 , le programme renvoie le dictionnaire:\n",
    "        d = {2 : [1,2] , 7: [1,7] , 14: [1,2,7,14] ,\n",
    "     9: [1,3,9] , 11: [1,11] , 5: [1,5]  , \n",
    "     3: [1,3]  , 19: [1,19]  , 1: [1] , 4: [1,2,4] }"
   ]
  },
  {
   "cell_type": "code",
   "execution_count": null,
   "id": "7f707a29",
   "metadata": {},
   "outputs": [],
   "source": [
    "# créer une fonction qui détermine la liste des diviseurs pour un entier donné\n",
    "def listDivisors(n):\n",
    "    # Initialiser la liste des diviseurs de n \n",
    "    listDiv =[]\n",
    "    # on parcourt la liste des entiers de  1 à n \n",
    "    # et on teste si i est un diviseur de n\n",
    "    for i in range(1,n+1):\n",
    "        if n%i == 0:\n",
    "            listDiv.append(i)\n",
    "    return listDiv\n",
    "\n",
    "# Création d'un dictionnaire vide pour récupérer les entiers saisis\n",
    "d = dict({})\n",
    "for i in range(1 , 11):\n",
    "    # demander à l'utilisateur de saisir un entier\n",
    "    n = int(input(\"Enter value of integer n : \" ))\n",
    "\n",
    "    # on ajoute n et a list de divieurs au dictionnaire d\n",
    "    d[n] = listDivisors(n)\n",
    "\n",
    "# afficher le dictionnaire d\n",
    "print(\"Le dictionnaire généré est : d = \", d)\n",
    "\n",
    "# on teste l'algorithme\n",
    "# pour les entiers saisis : 8, 12, 10, 6 , 3, 9, 22 , 11 , 17, 15\n",
    "# Le dictionnaire généré est : d =  {8: [1, 2, 4, 8], 12: [1, 2, 3, 4, 6, 12], 10: [1, 2, 5, 10], 6: [1, 2, 3, 6], 3: [1, 3], 9: [1, 3, 9], 22: [1, 2, 11, 22], 11: [1, 11], 17: [1, 17], 15: [1, 3, 5, 15]}"
   ]
  },
  {
   "cell_type": "code",
   "execution_count": null,
   "id": "14c1139e",
   "metadata": {},
   "outputs": [],
   "source": []
  }
 ],
 "metadata": {
  "kernelspec": {
   "display_name": "Python 3 (ipykernel)",
   "language": "python",
   "name": "python3"
  },
  "language_info": {
   "codemirror_mode": {
    "name": "ipython",
    "version": 3
   },
   "file_extension": ".py",
   "mimetype": "text/x-python",
   "name": "python",
   "nbconvert_exporter": "python",
   "pygments_lexer": "ipython3",
   "version": "3.8.5"
  }
 },
 "nbformat": 4,
 "nbformat_minor": 5
}
