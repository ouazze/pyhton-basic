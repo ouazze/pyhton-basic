{
 "cells": [
  {
   "cell_type": "markdown",
   "metadata": {},
   "source": [
    "# Introduction à Python  --  Niveau 2 b: Fonctions et Classes\n",
    "\n",
    "EL MOUATASIM AI CENTER, FORMATION 2020\n",
    "\n",
    "*********************"
   ]
  },
  {
   "cell_type": "markdown",
   "metadata": {},
   "source": [
    "## Fonctions"
   ]
  },
  {
   "cell_type": "markdown",
   "metadata": {},
   "source": [
    "Le mot-clé `def` permet de définir une fonction. Le mot-clé `return` termine son exécution et détermine la valeure de sortie."
   ]
  },
  {
   "cell_type": "code",
   "execution_count": 1,
   "metadata": {},
   "outputs": [],
   "source": [
    "def fibonacci(nb_de_termes):\n",
    "    fib = [1, 1]\n",
    "    if nb_de_termes < 2:\n",
    "        return fib[0:nb_de_termes]\n",
    "    \n",
    "    for i in range(nb_de_termes-2):\n",
    "        element = fib[-2] + fib[-1]\n",
    "        fib.append(element)    \n",
    "    \n",
    "    return fib"
   ]
  },
  {
   "cell_type": "code",
   "execution_count": 4,
   "metadata": {},
   "outputs": [
    {
     "data": {
      "text/plain": [
       "[1, 1, 2, 3, 5, 8, 13, 21, 34, 55]"
      ]
     },
     "execution_count": 4,
     "metadata": {},
     "output_type": "execute_result"
    }
   ],
   "source": [
    "fibonacci(10)"
   ]
  },
  {
   "cell_type": "code",
   "execution_count": 5,
   "metadata": {},
   "outputs": [
    {
     "name": "stdout",
     "output_type": "stream",
     "text": [
      "0 : []\n",
      "1 : [1]\n",
      "2 : [1, 1]\n",
      "3 : [1, 1, 2]\n",
      "4 : [1, 1, 2, 3]\n"
     ]
    }
   ],
   "source": [
    "for nb in range(5):\n",
    "    print(nb, ':', fibonacci(nb))"
   ]
  },
  {
   "cell_type": "markdown",
   "metadata": {},
   "source": [
    "Le mot-clé `return` est toutefois facultatif."
   ]
  },
  {
   "cell_type": "code",
   "execution_count": 6,
   "metadata": {},
   "outputs": [
    {
     "name": "stdout",
     "output_type": "stream",
     "text": [
      "1\n",
      "1\n",
      "2\n",
      "3\n",
      "5\n",
      "8\n",
      "13\n",
      "21\n",
      "34\n",
      "55\n",
      "89\n",
      "144\n"
     ]
    }
   ],
   "source": [
    "def afficher_fibonacci(nb_de_termes):\n",
    "    for terme in fibonacci(nb_de_termes):\n",
    "        print(terme)\n",
    "    \n",
    "afficher_fibonacci(12)"
   ]
  },
  {
   "cell_type": "markdown",
   "metadata": {},
   "source": [
    "On peut aussi définir des valeurs par défaut aux paramètres des fonctions."
   ]
  },
  {
   "cell_type": "code",
   "execution_count": 7,
   "metadata": {},
   "outputs": [],
   "source": [
    "def fibonacci_general(nb_de_termes, premier_terme=1, second_terme=1):\n",
    "    fib = [premier_terme, second_terme]\n",
    "    if nb_de_termes < 2:\n",
    "        return fib[0:nb_de_termes]\n",
    "    \n",
    "    for i in range(nb_de_termes-2):\n",
    "        element = fib[-2] + fib[-1]\n",
    "        fib.append(element)    \n",
    "    \n",
    "    return fib"
   ]
  },
  {
   "cell_type": "code",
   "execution_count": 8,
   "metadata": {},
   "outputs": [
    {
     "data": {
      "text/plain": [
       "[1, 1, 2, 3, 5, 8, 13, 21, 34, 55, 89, 144]"
      ]
     },
     "execution_count": 8,
     "metadata": {},
     "output_type": "execute_result"
    }
   ],
   "source": [
    "fibonacci_general(12)"
   ]
  },
  {
   "cell_type": "code",
   "execution_count": 9,
   "metadata": {},
   "outputs": [
    {
     "data": {
      "text/plain": [
       "[0.5, 1, 1.5, 2.5, 4.0, 6.5, 10.5, 17.0, 27.5, 44.5, 72.0, 116.5]"
      ]
     },
     "execution_count": 9,
     "metadata": {},
     "output_type": "execute_result"
    }
   ],
   "source": [
    "fibonacci_general(12, .5)"
   ]
  },
  {
   "cell_type": "code",
   "execution_count": 10,
   "metadata": {},
   "outputs": [
    {
     "data": {
      "text/plain": [
       "[2, 2, 4, 6, 10, 16, 26, 42, 68, 110, 178, 288]"
      ]
     },
     "execution_count": 10,
     "metadata": {},
     "output_type": "execute_result"
    }
   ],
   "source": [
    "fibonacci_general(12, 2, 2)"
   ]
  },
  {
   "cell_type": "code",
   "execution_count": 11,
   "metadata": {},
   "outputs": [
    {
     "data": {
      "text/plain": [
       "[1, 3, 4, 7, 11, 18, 29, 47, 76, 123, 199, 322]"
      ]
     },
     "execution_count": 11,
     "metadata": {},
     "output_type": "execute_result"
    }
   ],
   "source": [
    "fibonacci_general(12,  second_terme=3)"
   ]
  },
  {
   "cell_type": "markdown",
   "metadata": {},
   "source": [
    "**Les paramètres d'une fonctions ne sont pas *typés*.** \n",
    "\n",
    "Rappellons que nous pouvons additionner des chaînes de caractères.\n",
    "L'expression `'salut' + ' toi!'` devient `'salut toi!'`"
   ]
  },
  {
   "cell_type": "code",
   "execution_count": 12,
   "metadata": {},
   "outputs": [
    {
     "data": {
      "text/plain": [
       "[' salut',\n",
       " ' toi',\n",
       " ' salut toi',\n",
       " ' toi salut toi',\n",
       " ' salut toi toi salut toi',\n",
       " ' toi salut toi salut toi toi salut toi',\n",
       " ' salut toi toi salut toi toi salut toi salut toi toi salut toi']"
      ]
     },
     "execution_count": 12,
     "metadata": {},
     "output_type": "execute_result"
    }
   ],
   "source": [
    "fibonacci_general(7, \" salut\", \" toi\")"
   ]
  },
  {
   "cell_type": "code",
   "execution_count": 13,
   "metadata": {},
   "outputs": [
    {
     "data": {
      "text/plain": [
       "['a',\n",
       " 'b',\n",
       " 'ab',\n",
       " 'bab',\n",
       " 'abbab',\n",
       " 'bababbab',\n",
       " 'abbabbababbab',\n",
       " 'bababbababbabbababbab',\n",
       " 'abbabbababbabbababbababbabbababbab',\n",
       " 'bababbababbabbababbababbabbababbabbababbababbabbababbab',\n",
       " 'abbabbababbabbababbababbabbababbabbababbababbabbababbababbabbababbabbababbababbabbababbab',\n",
       " 'bababbababbabbababbababbabbababbabbababbababbabbababbababbabbababbabbababbababbabbababbabbababbababbabbababbababbabbababbabbababbababbabbababbab']"
      ]
     },
     "execution_count": 13,
     "metadata": {},
     "output_type": "execute_result"
    }
   ],
   "source": [
    "liste_fib_ab = fibonacci_general(12, \"a\", \"b\")\n",
    "liste_fib_ab"
   ]
  },
  {
   "cell_type": "markdown",
   "metadata": {},
   "source": [
    "Nous pouvons facilement créer une fonction destinés à recevoir une autre fonction en argument."
   ]
  },
  {
   "cell_type": "code",
   "execution_count": 14,
   "metadata": {},
   "outputs": [],
   "source": [
    "def appliquer_une_fonction_a_une_liste(une_fonction, une_liste):\n",
    "    nouvelle_liste = []\n",
    "    for valeur in une_liste:\n",
    "        nouvelle_valeur = une_fonction(valeur)\n",
    "        nouvelle_liste.append(nouvelle_valeur)\n",
    "    return nouvelle_liste"
   ]
  },
  {
   "cell_type": "code",
   "execution_count": 15,
   "metadata": {},
   "outputs": [
    {
     "data": {
      "text/plain": [
       "[1, 1, 2, 3, 5, 8, 13, 21, 34, 55, 89, 144]"
      ]
     },
     "execution_count": 15,
     "metadata": {},
     "output_type": "execute_result"
    }
   ],
   "source": [
    "appliquer_une_fonction_a_une_liste(len, liste_fib_ab)"
   ]
  },
  {
   "cell_type": "markdown",
   "metadata": {},
   "source": [
    "**Une fonction peut retourner plusieurs valeurs sous la forme d'un tuple.**"
   ]
  },
  {
   "cell_type": "code",
   "execution_count": 16,
   "metadata": {},
   "outputs": [],
   "source": [
    "def compter_a_et_b(mot):\n",
    "    nb_a = mot.count('a')\n",
    "    nb_b = mot.count('b')\n",
    "    return nb_a, nb_b"
   ]
  },
  {
   "cell_type": "code",
   "execution_count": 17,
   "metadata": {},
   "outputs": [
    {
     "name": "stdout",
     "output_type": "stream",
     "text": [
      "(8, 3)\n"
     ]
    },
    {
     "data": {
      "text/plain": [
       "tuple"
      ]
     },
     "execution_count": 17,
     "metadata": {},
     "output_type": "execute_result"
    }
   ],
   "source": [
    "ma_paire = compter_a_et_b(\"Cet arbre agit en abat-jour. Il faut l'abattre, pardi!\")\n",
    "print(ma_paire)\n",
    "type(ma_paire)"
   ]
  },
  {
   "cell_type": "code",
   "execution_count": 18,
   "metadata": {},
   "outputs": [
    {
     "name": "stdout",
     "output_type": "stream",
     "text": [
      "1\n",
      "2\n"
     ]
    },
    {
     "data": {
      "text/plain": [
       "int"
      ]
     },
     "execution_count": 18,
     "metadata": {},
     "output_type": "execute_result"
    }
   ],
   "source": [
    "compte_a, compte_b = compter_a_et_b(\"À la bonne heure, le compte est bon!\")\n",
    "print(compte_a)\n",
    "print(compte_b)\n",
    "type(compte_a)"
   ]
  },
  {
   "cell_type": "code",
   "execution_count": 19,
   "metadata": {},
   "outputs": [
    {
     "data": {
      "text/plain": [
       "[(1, 0),\n",
       " (0, 1),\n",
       " (1, 1),\n",
       " (1, 2),\n",
       " (2, 3),\n",
       " (3, 5),\n",
       " (5, 8),\n",
       " (8, 13),\n",
       " (13, 21),\n",
       " (21, 34),\n",
       " (34, 55),\n",
       " (55, 89)]"
      ]
     },
     "execution_count": 19,
     "metadata": {},
     "output_type": "execute_result"
    }
   ],
   "source": [
    "appliquer_une_fonction_a_une_liste(compter_a_et_b, liste_fib_ab)  "
   ]
  },
  {
   "cell_type": "markdown",
   "metadata": {},
   "source": [
    "****\n",
    "## Fonctions anonymes\n",
    "\n",
    "Le mot-clé `lambda` permet d'écrire une fonction de manière concise."
   ]
  },
  {
   "cell_type": "code",
   "execution_count": 21,
   "metadata": {},
   "outputs": [
    {
     "data": {
      "text/plain": [
       "100"
      ]
     },
     "execution_count": 21,
     "metadata": {},
     "output_type": "execute_result"
    }
   ],
   "source": [
    "au_carre = lambda x : x ** 2\n",
    "au_carre(10)"
   ]
  },
  {
   "cell_type": "code",
   "execution_count": 24,
   "metadata": {},
   "outputs": [
    {
     "data": {
      "text/plain": [
       "function"
      ]
     },
     "execution_count": 24,
     "metadata": {},
     "output_type": "execute_result"
    }
   ],
   "source": [
    "type(au_carre)"
   ]
  },
  {
   "cell_type": "markdown",
   "metadata": {},
   "source": [
    "Ces fonctions sont dites *anonymes* car on peut les utiliser sans leur donner de nom. Cela permet de les utiliser comme arguments d'autres fonction, par exemple."
   ]
  },
  {
   "cell_type": "code",
   "execution_count": 25,
   "metadata": {},
   "outputs": [
    {
     "data": {
      "text/plain": [
       "[0, 1, 4, 9, 16, 25, 36, 49, 64, 81]"
      ]
     },
     "execution_count": 25,
     "metadata": {},
     "output_type": "execute_result"
    }
   ],
   "source": [
    "liste_de_carre = appliquer_une_fonction_a_une_liste(lambda x : x ** 2, range(10))\n",
    "liste_de_carre"
   ]
  },
  {
   "cell_type": "code",
   "execution_count": 26,
   "metadata": {},
   "outputs": [
    {
     "data": {
      "text/plain": [
       "[(0, 0),\n",
       " (0, 1),\n",
       " (1, 1),\n",
       " (3, 0),\n",
       " (5, 1),\n",
       " (8, 1),\n",
       " (12, 0),\n",
       " (16, 1),\n",
       " (21, 1),\n",
       " (27, 0)]"
      ]
     },
     "execution_count": 26,
     "metadata": {},
     "output_type": "execute_result"
    }
   ],
   "source": [
    "appliquer_une_fonction_a_une_liste(lambda x : (x // 3, x % 3), liste_de_carre)"
   ]
  },
  {
   "cell_type": "markdown",
   "metadata": {},
   "source": [
    "****\n",
    "## Listes en compréhension"
   ]
  },
  {
   "cell_type": "markdown",
   "metadata": {},
   "source": [
    "Il existe une syntaxe particulière en python permettant d'accomplir le même travail que la fonction `appliquer_une_fonction_a_une_liste` défini ci-haut. Il s'agit des **listes en compréhension**."
   ]
  },
  {
   "cell_type": "code",
   "execution_count": 27,
   "metadata": {},
   "outputs": [
    {
     "data": {
      "text/plain": [
       "[1, 1, 2, 3, 5, 8, 13, 21, 34, 55, 89, 144]"
      ]
     },
     "execution_count": 27,
     "metadata": {},
     "output_type": "execute_result"
    }
   ],
   "source": [
    "[len(mot) for mot in liste_fib_ab] "
   ]
  },
  {
   "cell_type": "code",
   "execution_count": 28,
   "metadata": {},
   "outputs": [
    {
     "data": {
      "text/plain": [
       "[(1, 0),\n",
       " (0, 1),\n",
       " (1, 1),\n",
       " (1, 2),\n",
       " (2, 3),\n",
       " (3, 5),\n",
       " (5, 8),\n",
       " (8, 13),\n",
       " (13, 21),\n",
       " (21, 34),\n",
       " (34, 55),\n",
       " (55, 89)]"
      ]
     },
     "execution_count": 28,
     "metadata": {},
     "output_type": "execute_result"
    }
   ],
   "source": [
    "[compter_a_et_b(mot) for mot in liste_fib_ab] "
   ]
  },
  {
   "cell_type": "code",
   "execution_count": 29,
   "metadata": {},
   "outputs": [
    {
     "data": {
      "text/plain": [
       "[0, 1, 4, 9, 16, 25, 36, 49, 64, 81]"
      ]
     },
     "execution_count": 29,
     "metadata": {},
     "output_type": "execute_result"
    }
   ],
   "source": [
    "[x ** 2 for x in range(10)] "
   ]
  },
  {
   "cell_type": "code",
   "execution_count": 32,
   "metadata": {},
   "outputs": [
    {
     "data": {
      "text/plain": [
       "[0, 4, 16, 36, 64]"
      ]
     },
     "execution_count": 32,
     "metadata": {},
     "output_type": "execute_result"
    }
   ],
   "source": [
    "# On peut également filtrer les éléments en ajoutant une condition\n",
    "[x ** 2 for x in range(10) if x % 2 == 0] "
   ]
  },
  {
   "cell_type": "markdown",
   "metadata": {},
   "source": [
    "**********************************\n",
    "## Classes et objets"
   ]
  },
  {
   "cell_type": "markdown",
   "metadata": {},
   "source": [
    "Python permet de développer dans le paradigme de programmation *orienté objet*. \n",
    "\n",
    "On défini d'abord une *classe*, qui est une structure de données représentant un concept. En Python, définir une classe équivaut à définir un nouveau type de donné. On pourra ensuite instancier plusieurs *objets* ayant pour type cette même classe. \n",
    "\n",
    "Ci-dessous, nous définissons une *classe* qui représente un vecteur."
   ]
  },
  {
   "cell_type": "code",
   "execution_count": 33,
   "metadata": {},
   "outputs": [],
   "source": [
    "class vecteur:\n",
    "    def __init__(self, taille, valeur_initiale=0):\n",
    "        self.taille = taille\n",
    "        self.elements = [valeur_initiale] * taille\n",
    "\n",
    "    def afficher(self):\n",
    "        print(self.elements)\n",
    "        \n",
    "    def copie(self):\n",
    "        nouveau = vecteur(self.taille)\n",
    "        nouveau.elements = self.elements.copy()\n",
    "        return nouveau\n",
    "    \n",
    "    def acces(self, index):\n",
    "        return self.elements[index]\n",
    "    \n",
    "    def modif(self, index, valeur):\n",
    "        self.elements[index] = valeur\n",
    "    \n",
    "    def addition(self, valeur):\n",
    "        for i in range(self.taille):\n",
    "            self.elements[i] += valeur\n",
    "        \n",
    "    def norme(self):\n",
    "        cumul = 0.0\n",
    "        for x in self.elements:\n",
    "            cumul += x ** 2\n",
    "        return cumul ** 0.5   \n"
   ]
  },
  {
   "cell_type": "markdown",
   "metadata": {},
   "source": [
    "**Quelques remarques:**\n",
    "* Une classe est définie à l'aide du mot-clé `class`.\n",
    "* Une classe contient une ou plusieurs *méthodes membres*, définies par le mot-clé `def`.\n",
    "* Le premier paramètre de chaque *méthode membre* doit être la variable `self`. Lorsqu’un objet est créé, le mot-clé `self` réfère explicitement à l'objet courant.\n",
    "* La méthode `__init__(self, ...)` sera appelé par l'interpréteur Python lors de la création d'un objet. On y inclut les commandes à exécuter pour initialiser l'objet. \n",
    "* Il suffit d'utiliser la syntaxe `self.nom_de_variable = valeur` pour créer ou modifier une *variable membre* à l'objet. Typiquement, on initialise les variables membres dans la fonction `__init__(self, ...)`.\n",
    "\n",
    "**Notez bien**: Dans le cas d'une classe, on préfère employer le terme *méthode* plutôt que *fonction*. En effet, une méthode s'éloigne du concept mathématique de fonction, car elle ne fait pas que recevoir des arguments et produire une valeur de sortie, mais modifie possiblement l'état interne de son objet (c'est-à-dire les variables membres)."
   ]
  },
  {
   "cell_type": "markdown",
   "metadata": {},
   "source": [
    "Créons un premier *objet* appartenant à la classe `vecteur`. Ce faisant, l'interpréteur Python exécutera la fonction d'intialisation `__init__` avec les paramètres spécifiés (ci-bas, `taille=10`) et les valeurs par défauts sinon (ci-bas, `valeur_initiale=0`)"
   ]
  },
  {
   "cell_type": "code",
   "execution_count": 39,
   "metadata": {},
   "outputs": [],
   "source": [
    "vec_v = vecteur(10)"
   ]
  },
  {
   "cell_type": "code",
   "execution_count": 40,
   "metadata": {},
   "outputs": [
    {
     "data": {
      "text/plain": [
       "__main__.vecteur"
      ]
     },
     "execution_count": 40,
     "metadata": {},
     "output_type": "execute_result"
    }
   ],
   "source": [
    "type(vec_v)"
   ]
  },
  {
   "cell_type": "markdown",
   "metadata": {},
   "source": [
    "Inspectons les valeurs de l'objet nouvellement créé."
   ]
  },
  {
   "cell_type": "code",
   "execution_count": 41,
   "metadata": {},
   "outputs": [
    {
     "data": {
      "text/plain": [
       "10"
      ]
     },
     "execution_count": 41,
     "metadata": {},
     "output_type": "execute_result"
    }
   ],
   "source": [
    "vec_v.taille"
   ]
  },
  {
   "cell_type": "code",
   "execution_count": 42,
   "metadata": {},
   "outputs": [
    {
     "data": {
      "text/plain": [
       "[0, 0, 0, 0, 0, 0, 0, 0, 0, 0]"
      ]
     },
     "execution_count": 42,
     "metadata": {},
     "output_type": "execute_result"
    }
   ],
   "source": [
    "vec_v.elements"
   ]
  },
  {
   "cell_type": "markdown",
   "metadata": {},
   "source": [
    "Exécutons une fonction membre de l'objet `vec_v`"
   ]
  },
  {
   "cell_type": "code",
   "execution_count": 43,
   "metadata": {},
   "outputs": [
    {
     "name": "stdout",
     "output_type": "stream",
     "text": [
      "[0, 0, 0, 0, 0, 0, 0, 0, 0, 0]\n"
     ]
    }
   ],
   "source": [
    "vec_v.afficher()"
   ]
  },
  {
   "cell_type": "code",
   "execution_count": 44,
   "metadata": {},
   "outputs": [
    {
     "data": {
      "text/plain": [
       "0.0"
      ]
     },
     "execution_count": 44,
     "metadata": {},
     "output_type": "execute_result"
    }
   ],
   "source": [
    "vec_v.norme()"
   ]
  },
  {
   "cell_type": "code",
   "execution_count": 49,
   "metadata": {},
   "outputs": [
    {
     "name": "stdout",
     "output_type": "stream",
     "text": [
      "[0, 0, 3, 0, 0, 0, 0, 0, 0, 0]\n"
     ]
    }
   ],
   "source": [
    "vec_v.modif(2, 3)\n",
    "vec_v.afficher()\n"
   ]
  },
  {
   "cell_type": "code",
   "execution_count": 50,
   "metadata": {},
   "outputs": [
    {
     "name": "stdout",
     "output_type": "stream",
     "text": [
      "[0, 0, 3, 0, 0, 0, 0, 0, 0, 0]\n"
     ]
    },
    {
     "data": {
      "text/plain": [
       "3.0"
      ]
     },
     "execution_count": 50,
     "metadata": {},
     "output_type": "execute_result"
    }
   ],
   "source": [
    "vec_v.afficher()\n",
    "vec_v.norme()"
   ]
  },
  {
   "cell_type": "code",
   "execution_count": 51,
   "metadata": {},
   "outputs": [
    {
     "name": "stdout",
     "output_type": "stream",
     "text": [
      "[-0.5, -0.5, 2.5, -0.5, -0.5, -0.5, -0.5, -0.5, -0.5, -0.5]\n"
     ]
    },
    {
     "data": {
      "text/plain": [
       "2.9154759474226504"
      ]
     },
     "execution_count": 51,
     "metadata": {},
     "output_type": "execute_result"
    }
   ],
   "source": [
    "vec_v.addition(-0.5)\n",
    "vec_v.afficher()\n",
    "vec_v.norme()"
   ]
  },
  {
   "cell_type": "markdown",
   "metadata": {},
   "source": [
    "Attention à l'opérateur d'affectation «`=`», ce n'est pas une copie!"
   ]
  },
  {
   "cell_type": "code",
   "execution_count": 52,
   "metadata": {},
   "outputs": [],
   "source": [
    "vec_v = vecteur(10)\n",
    "vec_w = vec_v"
   ]
  },
  {
   "cell_type": "code",
   "execution_count": 53,
   "metadata": {},
   "outputs": [],
   "source": [
    "vec_v.addition(4)\n",
    "vec_w.modif(2, 3)"
   ]
  },
  {
   "cell_type": "code",
   "execution_count": 54,
   "metadata": {},
   "outputs": [
    {
     "name": "stdout",
     "output_type": "stream",
     "text": [
      "vec_v = [4, 4, 3, 4, 4, 4, 4, 4, 4, 4]\n",
      "vec_w = [4, 4, 3, 4, 4, 4, 4, 4, 4, 4]\n"
     ]
    }
   ],
   "source": [
    "print('vec_v =', vec_v.elements)\n",
    "print('vec_w =', vec_w.elements)"
   ]
  },
  {
   "cell_type": "code",
   "execution_count": 55,
   "metadata": {},
   "outputs": [],
   "source": [
    "vec_v = vecteur(10)\n",
    "vec_w = vec_v.copie()"
   ]
  },
  {
   "cell_type": "code",
   "execution_count": 56,
   "metadata": {},
   "outputs": [],
   "source": [
    "vec_v.addition(4)\n",
    "vec_w.modif(2, 3)"
   ]
  },
  {
   "cell_type": "code",
   "execution_count": 57,
   "metadata": {},
   "outputs": [
    {
     "name": "stdout",
     "output_type": "stream",
     "text": [
      "vec_v = [4, 4, 4, 4, 4, 4, 4, 4, 4, 4]\n",
      "vec_w = [0, 0, 3, 0, 0, 0, 0, 0, 0, 0]\n"
     ]
    }
   ],
   "source": [
    "print('vec_v =', vec_v.elements)\n",
    "print('vec_w =', vec_w.elements)"
   ]
  },
  {
   "cell_type": "markdown",
   "metadata": {},
   "source": [
    "On peut bien sûr définir des fonctions dons les arguments sont des objets,"
   ]
  },
  {
   "cell_type": "code",
   "execution_count": 60,
   "metadata": {},
   "outputs": [],
   "source": [
    "def produit_scalaire(vecteur_a, vecteur_b):\n",
    "    assert vecteur_a.taille == vecteur_b.taille, \"Les vecteurs ne sont pas de même taille.\"\n",
    "    somme = 0\n",
    "    for i in range(vecteur_a.taille):\n",
    "        somme += vecteur_a.acces(i) * vecteur_b.acces(i)\n",
    "    \n",
    "    return somme"
   ]
  },
  {
   "cell_type": "code",
   "execution_count": 61,
   "metadata": {},
   "outputs": [
    {
     "data": {
      "text/plain": [
       "12"
      ]
     },
     "execution_count": 61,
     "metadata": {},
     "output_type": "execute_result"
    }
   ],
   "source": [
    "produit_scalaire(vec_v, vec_w)"
   ]
  },
  {
   "cell_type": "code",
   "execution_count": 63,
   "metadata": {},
   "outputs": [
    {
     "name": "stdout",
     "output_type": "stream",
     "text": [
      "vec_a = [3, 3, 3]\n",
      "vec_b = [4, 4, 4, 4]\n"
     ]
    },
    {
     "ename": "AssertionError",
     "evalue": "Les vecteurs ne sont pas de même taille.",
     "output_type": "error",
     "traceback": [
      "\u001b[1;31m---------------------------------------------------------------------------\u001b[0m",
      "\u001b[1;31mAssertionError\u001b[0m                            Traceback (most recent call last)",
      "\u001b[1;32m<ipython-input-63-b2e3f5a74ff9>\u001b[0m in \u001b[0;36m<module>\u001b[1;34m\u001b[0m\n\u001b[0;32m      3\u001b[0m \u001b[0mprint\u001b[0m\u001b[1;33m(\u001b[0m\u001b[1;34m'vec_a ='\u001b[0m\u001b[1;33m,\u001b[0m \u001b[0mvec_a\u001b[0m\u001b[1;33m.\u001b[0m\u001b[0melements\u001b[0m\u001b[1;33m)\u001b[0m\u001b[1;33m\u001b[0m\u001b[1;33m\u001b[0m\u001b[0m\n\u001b[0;32m      4\u001b[0m \u001b[0mprint\u001b[0m\u001b[1;33m(\u001b[0m\u001b[1;34m'vec_b ='\u001b[0m\u001b[1;33m,\u001b[0m \u001b[0mvec_b\u001b[0m\u001b[1;33m.\u001b[0m\u001b[0melements\u001b[0m\u001b[1;33m)\u001b[0m\u001b[1;33m\u001b[0m\u001b[1;33m\u001b[0m\u001b[0m\n\u001b[1;32m----> 5\u001b[1;33m \u001b[0mproduit_scalaire\u001b[0m\u001b[1;33m(\u001b[0m\u001b[0mvec_a\u001b[0m\u001b[1;33m,\u001b[0m \u001b[0mvec_b\u001b[0m\u001b[1;33m)\u001b[0m\u001b[1;33m\u001b[0m\u001b[1;33m\u001b[0m\u001b[0m\n\u001b[0m",
      "\u001b[1;32m<ipython-input-60-e12e918855e6>\u001b[0m in \u001b[0;36mproduit_scalaire\u001b[1;34m(vecteur_a, vecteur_b)\u001b[0m\n\u001b[0;32m      1\u001b[0m \u001b[1;32mdef\u001b[0m \u001b[0mproduit_scalaire\u001b[0m\u001b[1;33m(\u001b[0m\u001b[0mvecteur_a\u001b[0m\u001b[1;33m,\u001b[0m \u001b[0mvecteur_b\u001b[0m\u001b[1;33m)\u001b[0m\u001b[1;33m:\u001b[0m\u001b[1;33m\u001b[0m\u001b[1;33m\u001b[0m\u001b[0m\n\u001b[1;32m----> 2\u001b[1;33m     \u001b[1;32massert\u001b[0m \u001b[0mvecteur_a\u001b[0m\u001b[1;33m.\u001b[0m\u001b[0mtaille\u001b[0m \u001b[1;33m==\u001b[0m \u001b[0mvecteur_b\u001b[0m\u001b[1;33m.\u001b[0m\u001b[0mtaille\u001b[0m\u001b[1;33m,\u001b[0m \u001b[1;34m\"Les vecteurs ne sont pas de même taille.\"\u001b[0m\u001b[1;33m\u001b[0m\u001b[1;33m\u001b[0m\u001b[0m\n\u001b[0m\u001b[0;32m      3\u001b[0m     \u001b[0msomme\u001b[0m \u001b[1;33m=\u001b[0m \u001b[1;36m0\u001b[0m\u001b[1;33m\u001b[0m\u001b[1;33m\u001b[0m\u001b[0m\n\u001b[0;32m      4\u001b[0m     \u001b[1;32mfor\u001b[0m \u001b[0mi\u001b[0m \u001b[1;32min\u001b[0m \u001b[0mrange\u001b[0m\u001b[1;33m(\u001b[0m\u001b[0mvecteur_a\u001b[0m\u001b[1;33m.\u001b[0m\u001b[0mtaille\u001b[0m\u001b[1;33m)\u001b[0m\u001b[1;33m:\u001b[0m\u001b[1;33m\u001b[0m\u001b[1;33m\u001b[0m\u001b[0m\n\u001b[0;32m      5\u001b[0m         \u001b[0msomme\u001b[0m \u001b[1;33m+=\u001b[0m \u001b[0mvecteur_a\u001b[0m\u001b[1;33m.\u001b[0m\u001b[0macces\u001b[0m\u001b[1;33m(\u001b[0m\u001b[0mi\u001b[0m\u001b[1;33m)\u001b[0m \u001b[1;33m*\u001b[0m \u001b[0mvecteur_b\u001b[0m\u001b[1;33m.\u001b[0m\u001b[0macces\u001b[0m\u001b[1;33m(\u001b[0m\u001b[0mi\u001b[0m\u001b[1;33m)\u001b[0m\u001b[1;33m\u001b[0m\u001b[1;33m\u001b[0m\u001b[0m\n",
      "\u001b[1;31mAssertionError\u001b[0m: Les vecteurs ne sont pas de même taille."
     ]
    }
   ],
   "source": [
    "vec_a = vecteur(3, 3)\n",
    "vec_b = vecteur(4, 4)\n",
    "print('vec_a =', vec_a.elements)\n",
    "print('vec_b =', vec_b.elements)\n",
    "produit_scalaire(vec_a, vec_b)"
   ]
  },
  {
   "cell_type": "code",
   "execution_count": 65,
   "metadata": {},
   "outputs": [
    {
     "name": "stdout",
     "output_type": "stream",
     "text": [
      "vec_a = [3, 3, 3]\n",
      "vec_b = [4, 4, 4]\n"
     ]
    },
    {
     "data": {
      "text/plain": [
       "36"
      ]
     },
     "execution_count": 65,
     "metadata": {},
     "output_type": "execute_result"
    }
   ],
   "source": [
    "vec_a = vecteur(3, 3)\n",
    "#print('va=',vec_a)\n",
    "vec_b = vecteur(3, 4)\n",
    "print('vec_a =', vec_a.elements)\n",
    "print('vec_b =', vec_b.elements)\n",
    "produit_scalaire(vec_a, vec_b)"
   ]
  },
  {
   "cell_type": "code",
   "execution_count": 66,
   "metadata": {},
   "outputs": [
    {
     "name": "stdout",
     "output_type": "stream",
     "text": [
      "[3, 3, 3]\n"
     ]
    },
    {
     "data": {
      "text/plain": [
       "27"
      ]
     },
     "execution_count": 66,
     "metadata": {},
     "output_type": "execute_result"
    }
   ],
   "source": [
    "vec_a = vecteur(3, 3)\n",
    "vec_a.afficher()\n",
    "produit_scalaire(vec_a, vec_a)"
   ]
  },
  {
   "cell_type": "code",
   "execution_count": 67,
   "metadata": {},
   "outputs": [
    {
     "data": {
      "text/plain": [
       "27.0"
      ]
     },
     "execution_count": 67,
     "metadata": {},
     "output_type": "execute_result"
    }
   ],
   "source": [
    "# Un petit «sanity check»\n",
    "vec_a.norme() ** 2"
   ]
  },
  {
   "cell_type": "markdown",
   "metadata": {},
   "source": [
    "*********\n",
    "# Exercices"
   ]
  },
  {
   "cell_type": "markdown",
   "metadata": {},
   "source": [
    "### Exercice 1 \n",
    "\n",
    "Voici l'ébauche d'une classe `matrice` qu'on vous demande de compléter. Plus précisément, vous devez remplacer les mots-clés `pass` dans les méthodes suivantes afin qu'elles adopteņt le comportement désiré:\n",
    "\n",
    "* La méthode `copie` doit retourner une nouvelle matrice correspondant à une **copie** de la matrice courante\n",
    "* La méthode `acces` doit retourner la valeur contenue à la $i$ème ligne et la $j$ème colonne de la  matrice courante\n",
    "* La méthode `modif` doit attribuer l'argument `valeur` l'élément situé à la $i$ème ligne et la $j$ème colonne de la  matrice courante.\n",
    "* La méthode `addition` doit ajouter `valeur` à tous les éléments de la  matrice courante."
   ]
  },
  {
   "cell_type": "code",
   "execution_count": 68,
   "metadata": {},
   "outputs": [],
   "source": [
    "class matrice:\n",
    "    def __init__(self, nb_lignes, nb_colonnes, valeur_initiale=0):\n",
    "        self.nb_lignes = nb_lignes\n",
    "        self.nb_colonnes = nb_colonnes\n",
    "        self.elements = []\n",
    "        for i in range(nb_lignes):\n",
    "            self.elements.append([valeur_initiale] * nb_colonnes)\n",
    "            \n",
    "    def afficher(self):\n",
    "        for ligne in self.elements:\n",
    "            print(ligne)\n",
    "            \n",
    "    def copie(self):\n",
    "        pass \n",
    "    \n",
    "    def acces(self, index_i, index_j):\n",
    "        pass\n",
    "    \n",
    "    def modif(self, index_i, index_j, valeur):\n",
    "        pass\n",
    "    \n",
    "    def addition(self, valeur):\n",
    "        pass"
   ]
  },
  {
   "cell_type": "code",
   "execution_count": null,
   "metadata": {},
   "outputs": [],
   "source": []
  },
  {
   "cell_type": "markdown",
   "metadata": {},
   "source": [
    "### Validation de la réponse de l'exercice 1\n",
    "\n",
    "Le code suivant permet de valider certaines méthoses de la nouvelle classe matrice (les autres méthodes seront validés au cours de l'exercice 2 plus-bas."
   ]
  },
  {
   "cell_type": "code",
   "execution_count": null,
   "metadata": {},
   "outputs": [],
   "source": [
    "def valider_egaliter_matrices(matrice_A, matrice_B):\n",
    "    assert matrice_A.nb_lignes == matrice_B.nb_lignes, \"Les matrices n'ont pas le même nombre de lignes.\"\n",
    "    assert matrice_A.nb_colonnes == matrice_B.nb_colonnes, \"Les matrices n'ont pas le même nombre de colonnes.\"    \n",
    "    assert matrice_A.elements == matrice_B.elements, \"Les elements des matrices sont differents.\"\n",
    "    \n",
    "mat_A = matrice(3, 4)\n",
    "mat_B = mat_A.copie()\n",
    "mat_B.addition(5)\n",
    "\n",
    "print('matrice A')\n",
    "mat_A.afficher()\n",
    "\n",
    "print('matrice B')\n",
    "mat_B.afficher()\n",
    "    \n",
    "valider_egaliter_matrices(mat_A, matrice(3,4))\n",
    "valider_egaliter_matrices(mat_B, matrice(3,4,5))\n",
    "print('**Test réussi**!')"
   ]
  },
  {
   "cell_type": "markdown",
   "metadata": {},
   "source": [
    "### Exercice 2\n",
    "\n",
    "$\\newcommand{\\Abf}{\\mathbf{A}}\n",
    "\\newcommand{\\Bbf}{\\mathbf{B}}\n",
    "\\newcommand{\\Cbf}{\\mathbf{C}}\n",
    "\\newcommand{\\Rbb}{\\mathbf{R}}\n",
    "$ \n",
    "Compléter la fonction suivante qui éffectue le [produit matriciel](https://fr.wikipedia.org/wiki/Produit_matriciel) de deux matrices."
   ]
  },
  {
   "cell_type": "code",
   "execution_count": null,
   "metadata": {},
   "outputs": [],
   "source": [
    "def produit_matriciel(matrice_A, matrice_B):\n",
    "    assert matrice_A.nb_colonnes == matrice_B.nb_lignes, 'les matrices ne sont pas de bonnes dimensions'\n",
    "    matrice_C = matrice(matrice_A.nb_lignes, matrice_B.nb_colonnes)\n",
    "    \n",
    "    # Compléter\n",
    "    \n",
    "    return matrice_C"
   ]
  },
  {
   "cell_type": "markdown",
   "metadata": {},
   "source": [
    "### Validation de la réponse de l'exercice\n",
    "\n",
    "Le code suivant permet de valider votre réponse à l'exercice 2. Assurez-vous que l'éxécution de **chacune** des cellules suivantes ne produit pas d'erreurs."
   ]
  },
  {
   "cell_type": "code",
   "execution_count": null,
   "metadata": {},
   "outputs": [],
   "source": [
    "def valider_egaliter_matrices(matrice_A, matrice_B):\n",
    "    assert matrice_A.nb_lignes == matrice_B.nb_lignes, \"Les matrices n'ont pas le même nombre de lignes.\"\n",
    "    assert matrice_A.nb_colonnes == matrice_B.nb_colonnes, \"Les matrices n'ont pas le même nombre de colonnes.\"    \n",
    "    assert matrice_A.elements == matrice_B.elements, \"Les elements des matrices sont differents.\"\n",
    "    \n",
    "def test_produit_matriciel(matrice_A, matrice_B, matrice_solution):\n",
    "    print('matrice A')\n",
    "    matrice_A.afficher()\n",
    "\n",
    "    print('matrice B')\n",
    "    matrice_B.afficher()\n",
    "\n",
    "    print('produit matriciel A*B')\n",
    "    matrice_AB = produit_matriciel(matrice_A, matrice_B)\n",
    "    matrice_AB.afficher()\n",
    "\n",
    "    print('\\nValidation de la réponse')\n",
    "    valider_egaliter_matrices(matrice_AB, matrice_solution)\n",
    "    print('**Test réussi!**\\n')\n",
    "    \n",
    "mat_A = matrice(2, 3, 1.0)\n",
    "mat_B = matrice(3, 5, 3.0)\n",
    "\n",
    "test_produit_matriciel(mat_A, mat_B, matrice(2, 5, 9))"
   ]
  },
  {
   "cell_type": "code",
   "execution_count": null,
   "metadata": {},
   "outputs": [],
   "source": [
    "mat_A = matrice(2, 1, -1.0)\n",
    "mat_B = matrice(1, 3, 1.0)\n",
    "\n",
    "test_produit_matriciel(mat_A, mat_B, matrice(2, 3, -1.0))"
   ]
  },
  {
   "cell_type": "code",
   "execution_count": null,
   "metadata": {},
   "outputs": [],
   "source": [
    "mat_A = matrice(1, 5, -1.0)\n",
    "mat_B = matrice(5, 1, 1.0)\n",
    "\n",
    "test_produit_matriciel(mat_A, mat_B, matrice(1, 1, -5.0))"
   ]
  },
  {
   "cell_type": "code",
   "execution_count": null,
   "metadata": {},
   "outputs": [],
   "source": [
    "mat_A = matrice(5, 5, 0)\n",
    "mat_B = mat_A.copie() \n",
    "\n",
    "for i in range(5):\n",
    "    mat_A.modif(i, i, 1) \n",
    "    mat_B.modif(i, (i+2)%5, 2*i+1)\n",
    "\n",
    "test_produit_matriciel(mat_A, mat_B, mat_B)\n",
    "test_produit_matriciel(mat_B, mat_A, mat_B)"
   ]
  },
  {
   "cell_type": "code",
   "execution_count": null,
   "metadata": {},
   "outputs": [],
   "source": []
  },
  {
   "cell_type": "code",
   "execution_count": null,
   "metadata": {},
   "outputs": [],
   "source": []
  }
 ],
 "metadata": {
  "kernelspec": {
   "display_name": "Python 3",
   "language": "python",
   "name": "python3"
  },
  "language_info": {
   "codemirror_mode": {
    "name": "ipython",
    "version": 3
   },
   "file_extension": ".py",
   "mimetype": "text/x-python",
   "name": "python",
   "nbconvert_exporter": "python",
   "pygments_lexer": "ipython3",
   "version": "3.7.1"
  }
 },
 "nbformat": 4,
 "nbformat_minor": 2
}
