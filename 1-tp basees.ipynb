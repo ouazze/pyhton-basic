{
 "cells": [
  {
   "cell_type": "markdown",
   "id": "2536755e",
   "metadata": {},
   "source": [
    "# Ecrire un programme en langage Python qui demande à l’utilisateur de saisir son nom et de lui afficher son nom avec un message de bienvenue !"
   ]
  },
  {
   "cell_type": "code",
   "execution_count": 1,
   "id": "2b48e8dd",
   "metadata": {},
   "outputs": [
    {
     "name": "stdout",
     "output_type": "stream",
     "text": [
      "Tapez votre nom : ouazze \n",
      "Bienvnue  :  ouazze \n"
     ]
    }
   ],
   "source": [
    "nom = input(\"Tapez votre nom : \")\n",
    "print(\"Bienvnue  : \" , nom)"
   ]
  },
  {
   "cell_type": "markdown",
   "id": "5bc7f90b",
   "metadata": {},
   "source": [
    "# Ecrire un programme en Python qui demande à l’utilisateur de saisir deux nombres a et b et de lui afficher leur somme : a + b"
   ]
  },
  {
   "cell_type": "code",
   "execution_count": null,
   "id": "67b1ea73",
   "metadata": {},
   "outputs": [],
   "source": [
    "# demander à l'utilisateur de saisir les valeurs de a et de b\n",
    "a = input(\"Tapez la valeur du nombre a : \")\n",
    "b = input(\"Tapez la valeur du nombre b : \")\n",
    "# Convertir les chaines de caractères en entier\n",
    "a = int(a)\n",
    "b = int(b)\n",
    "s = a+b\n",
    "print(\"La somme de a et de b est a + b = \" , s)"
   ]
  },
  {
   "cell_type": "markdown",
   "id": "9b68ed74",
   "metadata": {},
   "source": [
    "# Ecrire un programme en Python qui demande à l'utilisateur de saisir deux nombres a et b et de lui afficher leur maximum, sans utiliser la fonction max() ni aucune fonction prédéfinie."
   ]
  },
  {
   "cell_type": "code",
   "execution_count": null,
   "id": "7fff9264",
   "metadata": {},
   "outputs": [],
   "source": [
    "# lire les valeurs de a et b\n",
    "a = int(input(\"Tapez la valeur du nombre a : \"))\n",
    "b = int(input(\"Tapez la valeur du nombre b : \"))\n",
    "\n",
    "# Faire un test de comparaison pour trouver le plus grand \n",
    "if (a > b):\n",
    "    print(\"Le maximum  de a et de b est : a = \", a)\n",
    "else:\n",
    "    print(\"Le maximum  de a et de b est : b = \", b)"
   ]
  },
  {
   "cell_type": "markdown",
   "id": "d90969ec",
   "metadata": {},
   "source": [
    "# Ecrire un programme en langage Python qui affiche les 100 premiers nombres entiers"
   ]
  },
  {
   "cell_type": "code",
   "execution_count": 2,
   "id": "5892aaa2",
   "metadata": {},
   "outputs": [
    {
     "name": "stdout",
     "output_type": "stream",
     "text": [
      "0\n",
      "1\n",
      "2\n",
      "3\n",
      "4\n",
      "5\n",
      "6\n",
      "7\n",
      "8\n",
      "9\n",
      "10\n",
      "11\n",
      "12\n",
      "13\n",
      "14\n",
      "15\n",
      "16\n",
      "17\n",
      "18\n",
      "19\n",
      "20\n",
      "21\n",
      "22\n",
      "23\n",
      "24\n",
      "25\n",
      "26\n",
      "27\n",
      "28\n",
      "29\n",
      "30\n",
      "31\n",
      "32\n",
      "33\n",
      "34\n",
      "35\n",
      "36\n",
      "37\n",
      "38\n",
      "39\n",
      "40\n",
      "41\n",
      "42\n",
      "43\n",
      "44\n",
      "45\n",
      "46\n",
      "47\n",
      "48\n",
      "49\n",
      "50\n",
      "51\n",
      "52\n",
      "53\n",
      "54\n",
      "55\n",
      "56\n",
      "57\n",
      "58\n",
      "59\n",
      "60\n",
      "61\n",
      "62\n",
      "63\n",
      "64\n",
      "65\n",
      "66\n",
      "67\n",
      "68\n",
      "69\n",
      "70\n",
      "71\n",
      "72\n",
      "73\n",
      "74\n",
      "75\n",
      "76\n",
      "77\n",
      "78\n",
      "79\n",
      "80\n",
      "81\n",
      "82\n",
      "83\n",
      "84\n",
      "85\n",
      "86\n",
      "87\n",
      "88\n",
      "89\n",
      "90\n",
      "91\n",
      "92\n",
      "93\n",
      "94\n",
      "95\n",
      "96\n",
      "97\n",
      "98\n",
      "99\n",
      "100\n"
     ]
    }
   ],
   "source": [
    "# parcourir les 100 premiers nombres à l'aide de la boucle for\n",
    "for i in range(0,101):\n",
    "    print(i)"
   ]
  },
  {
   "cell_type": "markdown",
   "id": "38b78f52",
   "metadata": {},
   "source": [
    "# Ecrire un programme en langage Python qui demande à l’utilisateur de saisir son nombre entier et de lui afficher si ce nombre est pair ou impair."
   ]
  },
  {
   "cell_type": "code",
   "execution_count": 4,
   "id": "39fd5815",
   "metadata": {},
   "outputs": [
    {
     "name": "stdout",
     "output_type": "stream",
     "text": [
      "Type value of the integer n : 9\n",
      "Le nombre ' 9 ' est impair \n"
     ]
    }
   ],
   "source": [
    "# Lire la valeur de n\n",
    "n = input(\"Type value of the integer n : \")\n",
    "\n",
    "# Convertir n en entier\n",
    "n = int(n)\n",
    "# Tester si n est pair ou non\n",
    "if(n%2 == 0):\n",
    "    print(\"Le nombre '\", n, \"' est pair \")\n",
    "else:\n",
    "    print(\"Le nombre '\", n, \"' est impair \")"
   ]
  },
  {
   "cell_type": "markdown",
   "id": "7cd2c07c",
   "metadata": {},
   "source": [
    "# Ecrire un programme en langage Python qui demande à l’utilisateur de saisir son âge et de lui afficher le message « vous êtes Majeur ! » si l’âge tapé est supérieur ou égale à 18 et le message « vous êtes mineur ! » si l’âge tapé est inférieur à 18"
   ]
  },
  {
   "cell_type": "code",
   "execution_count": 6,
   "id": "bc1441c4",
   "metadata": {},
   "outputs": [
    {
     "name": "stdout",
     "output_type": "stream",
     "text": [
      "Tapez votre age : 18\n",
      "Vous êtes majeur !\n"
     ]
    }
   ],
   "source": [
    "# Demander à l'utilisateur de taper son âge \n",
    "age = int(input(\"Tapez votre age : \"))\n",
    "if(age >= 18):\n",
    "    print(\"Vous êtes majeur !\")\n",
    "else:\n",
    "    print(\"Vous êtes mineur !\")"
   ]
  },
  {
   "cell_type": "markdown",
   "id": "11fdf505",
   "metadata": {},
   "source": [
    "# Ecrire un programme en Python qui demande à l’utilisateur de saisir 3 nombre x, y et z et de lui afficher leur maximum sans utiliser aucune fonction prédéfinie."
   ]
  },
  {
   "cell_type": "code",
   "execution_count": 7,
   "id": "b70f612e",
   "metadata": {},
   "outputs": [
    {
     "name": "stdout",
     "output_type": "stream",
     "text": [
      "Type a value of the number a 12\n",
      "Type a value of the number b 4\n",
      "Type a value of the number c 4\n",
      "Le maximum des trois nombre est : max(a,b,c) =  12\n"
     ]
    }
   ],
   "source": [
    "# Demander à l'utilisateur de taper 3 nombres  a, b, c\n",
    "a = int(input(\"Type a value of the number a \"))\n",
    "b = int(input(\"Type a value of the number b \"))\n",
    "c = int(input(\"Type a value of the number c \"))\n",
    "\n",
    "# définir et initialiser le maximum à zero\n",
    "max = 0\n",
    "if(a > b):\n",
    "    max = a\n",
    "else:\n",
    "    max = b\n",
    "if(max < c):\n",
    "    max = c\n",
    "else:\n",
    "    max = max\n",
    "print(\"Le maximum des trois nombre est : max(a,b,c) = \", max)"
   ]
  },
  {
   "cell_type": "markdown",
   "id": "4c999226",
   "metadata": {},
   "source": [
    "# Ecrire un programme en Python qui demande à l'utilisateur de saisir un nombre entier n et de lui afficher la valeur de la somme 1 + 2 + … + n = ?"
   ]
  },
  {
   "cell_type": "code",
   "execution_count": 1,
   "id": "1d3670e8",
   "metadata": {},
   "outputs": [
    {
     "name": "stdout",
     "output_type": "stream",
     "text": [
      "Type a value of the integer n 2\n",
      "La somme  1 + 2 + 3 + ...+  2  = :  3\n"
     ]
    }
   ],
   "source": [
    "# Demander à l'utilisateur de saisir la valeur de l'entier n\n",
    "n = int(input(\"Type a value of the integer n \"))\n",
    "\n",
    "# define et initialiser une variable auxiliaire j\n",
    "j = 0\n",
    "for i in range(1,n+1):\n",
    "    j = j + i \n",
    "print(\"La somme  1 + 2 + 3 + ...+ \",n,\" = : \", j)"
   ]
  },
  {
   "cell_type": "markdown",
   "id": "b5f8a12d",
   "metadata": {},
   "source": [
    "# Écrire un programme en Python qui demande à l'utilisateur de saisir un nombre entier n et de lui afficher n !"
   ]
  },
  {
   "cell_type": "code",
   "execution_count": null,
   "id": "14ba7e57",
   "metadata": {},
   "outputs": [],
   "source": [
    "# Demander à l'utilisateur de saisir la valeur de l'entier n\n",
    "n = int(input(\"Type a value of the integer n \"))\n",
    "\n",
    "# define et initialiser une variable auxiliaire j\n",
    "j = 1\n",
    "for i in range(1,n+1):\n",
    "    j = j*i \n",
    "print(\"Factorielle de n est : \",n,\"! = : \", j)"
   ]
  },
  {
   "cell_type": "markdown",
   "id": "115eae95",
   "metadata": {},
   "source": [
    "# Ecrire un programme en Python qui demande à l’utilisateur de saisir le rayon d'un cercle et de lui renvoyer la surface et le périmètre."
   ]
  },
  {
   "cell_type": "code",
   "execution_count": 1,
   "id": "468759b8",
   "metadata": {},
   "outputs": [
    {
     "name": "stdout",
     "output_type": "stream",
     "text": [
      "Saisissez la valeur du rayon r: 2\n",
      "Le périmètre du cercle de rayons r = 2  est P =  12.566370614359172\n",
      "La surface du cercle de rayons r = 2  est S =  12.566370614359172\n"
     ]
    }
   ],
   "source": [
    "# importer le nombre pi à partir de la bibliothèque math\n",
    "from math import pi\n",
    "# lire la valeur du rayon r\n",
    "r = int(input(\"Saisissez la valeur du rayon r: \"))\n",
    "# calcul du périmètre du cercle\n",
    "P = 2*pi*r\n",
    "# calcul de la surface du cercle\n",
    "S = pi*(r**2)\n",
    "print(\"Le périmètre du cercle de rayons r =\",r,\" est P = \", P)  \n",
    "print(\"La surface du cercle de rayons r =\",r,\" est S = \", S)"
   ]
  },
  {
   "cell_type": "markdown",
   "id": "3a30948a",
   "metadata": {},
   "source": [
    "# Ecrire un programme en Python qui demande à l’utilisateur de saisir un nombre entier n et de lui afficher tous les diviseurs de ce nombre."
   ]
  },
  {
   "cell_type": "code",
   "execution_count": null,
   "id": "aae168b3",
   "metadata": {},
   "outputs": [],
   "source": [
    "n = int(input(\"Tapez la valeur de l'entier n \"))\n",
    "# parcourir tous les entiers inféreir ou égale à n\n",
    "for i in range(1,n+1):\n",
    "    # tester si i est un diviseur de n\n",
    "    if(n%i==0):\n",
    "        print(\"Le nombre \",i,\" est un diviseur de  \",n)"
   ]
  },
  {
   "cell_type": "markdown",
   "id": "fc92a1f0",
   "metadata": {},
   "source": [
    "# 1) – Ecrire un programme en Python qui demande à l’utilisateur de saisir un nombre entier n et de lui afficher la table de multiplication de ce nombre.\n",
    "# 2) – Améliorez le programme afin qu’il affiche les tables de multiplications de tous les nombres compris entre 1 et 9"
   ]
  },
  {
   "cell_type": "code",
   "execution_count": 2,
   "id": "5f61a77e",
   "metadata": {},
   "outputs": [
    {
     "name": "stdout",
     "output_type": "stream",
     "text": [
      "Tapez la valeur de n 3\n",
      "La table de multiplication de :  3  est :\n",
      "1  x  3  =  3\n",
      "2  x  3  =  6\n",
      "3  x  3  =  9\n",
      "4  x  3  =  12\n",
      "5  x  3  =  15\n",
      "6  x  3  =  18\n",
      "7  x  3  =  21\n",
      "8  x  3  =  24\n",
      "9  x  3  =  27\n",
      "--------------------------------------\n",
      "la table de multiplication de  :  1  est :\n",
      "1  x  1  =  1\n",
      "2  x  1  =  2\n",
      "3  x  1  =  3\n",
      "4  x  1  =  4\n",
      "5  x  1  =  5\n",
      "6  x  1  =  6\n",
      "7  x  1  =  7\n",
      "8  x  1  =  8\n",
      "9  x  1  =  9\n",
      "--------------------------------------\n",
      "la table de multiplication de  :  2  est :\n",
      "1  x  2  =  2\n",
      "2  x  2  =  4\n",
      "3  x  2  =  6\n",
      "4  x  2  =  8\n",
      "5  x  2  =  10\n",
      "6  x  2  =  12\n",
      "7  x  2  =  14\n",
      "8  x  2  =  16\n",
      "9  x  2  =  18\n",
      "--------------------------------------\n",
      "la table de multiplication de  :  3  est :\n",
      "1  x  3  =  3\n",
      "2  x  3  =  6\n",
      "3  x  3  =  9\n",
      "4  x  3  =  12\n",
      "5  x  3  =  15\n",
      "6  x  3  =  18\n",
      "7  x  3  =  21\n",
      "8  x  3  =  24\n",
      "9  x  3  =  27\n",
      "--------------------------------------\n",
      "la table de multiplication de  :  4  est :\n",
      "1  x  4  =  4\n",
      "2  x  4  =  8\n",
      "3  x  4  =  12\n",
      "4  x  4  =  16\n",
      "5  x  4  =  20\n",
      "6  x  4  =  24\n",
      "7  x  4  =  28\n",
      "8  x  4  =  32\n",
      "9  x  4  =  36\n",
      "--------------------------------------\n",
      "la table de multiplication de  :  5  est :\n",
      "1  x  5  =  5\n",
      "2  x  5  =  10\n",
      "3  x  5  =  15\n",
      "4  x  5  =  20\n",
      "5  x  5  =  25\n",
      "6  x  5  =  30\n",
      "7  x  5  =  35\n",
      "8  x  5  =  40\n",
      "9  x  5  =  45\n",
      "--------------------------------------\n",
      "la table de multiplication de  :  6  est :\n",
      "1  x  6  =  6\n",
      "2  x  6  =  12\n",
      "3  x  6  =  18\n",
      "4  x  6  =  24\n",
      "5  x  6  =  30\n",
      "6  x  6  =  36\n",
      "7  x  6  =  42\n",
      "8  x  6  =  48\n",
      "9  x  6  =  54\n",
      "--------------------------------------\n",
      "la table de multiplication de  :  7  est :\n",
      "1  x  7  =  7\n",
      "2  x  7  =  14\n",
      "3  x  7  =  21\n",
      "4  x  7  =  28\n",
      "5  x  7  =  35\n",
      "6  x  7  =  42\n",
      "7  x  7  =  49\n",
      "8  x  7  =  56\n",
      "9  x  7  =  63\n",
      "--------------------------------------\n",
      "la table de multiplication de  :  8  est :\n",
      "1  x  8  =  8\n",
      "2  x  8  =  16\n",
      "3  x  8  =  24\n",
      "4  x  8  =  32\n",
      "5  x  8  =  40\n",
      "6  x  8  =  48\n",
      "7  x  8  =  56\n",
      "8  x  8  =  64\n",
      "9  x  8  =  72\n",
      "--------------------------------------\n",
      "la table de multiplication de  :  9  est :\n",
      "1  x  9  =  9\n",
      "2  x  9  =  18\n",
      "3  x  9  =  27\n",
      "4  x  9  =  36\n",
      "5  x  9  =  45\n",
      "6  x  9  =  54\n",
      "7  x  9  =  63\n",
      "8  x  9  =  72\n",
      "9  x  9  =  81\n"
     ]
    }
   ],
   "source": [
    "# Lire la valeur de l'entier n\n",
    "n = int(input(\"Tapez la valeur de n \"))\n",
    "print(\"La table de multiplication de : \", n,\" est :\")\n",
    "for i in range(1,10):\n",
    "    print(i , \" x \", n, \" = \",i*n)\n",
    "    \n",
    "    \n",
    "    \n",
    "    ############################# ques 2\n",
    "for n in range(1,10):\n",
    "    #insert separator\n",
    "    print(\"--------------------------------------\")\n",
    "    print(\"la table de multiplication de  : \", n,\" est :\")\n",
    "    for i in range(1,10):\n",
    "        print(i , \" x \", n, \" = \",i*n)    \n",
    "    "
   ]
  },
  {
   "cell_type": "markdown",
   "id": "77d6bf2d",
   "metadata": {},
   "source": [
    "# Ecrire un programme en langage Python qui demande à l'utilisateur de saisir deux nombres entiers a et b et de lui afficher le quotient et le reste de la division euclidienne de a par b."
   ]
  },
  {
   "cell_type": "code",
   "execution_count": null,
   "id": "0f999885",
   "metadata": {},
   "outputs": [],
   "source": [
    "# Lire les valeurs de  a et  b\n",
    "a = int(input(\"Tapez la valeur de l'entier  a  :  \"))\n",
    "b = int(input(\"Tapez la valeur de l'entier  b  :  \"))\n",
    "q = a//b\n",
    "r = a%b\n",
    "print(\"Le quotient de la division euclidienne de a par b est  : q = \", q)\n",
    "print(\"Le reste de la division euclidienne de a par b est : r = \", r)"
   ]
  },
  {
   "cell_type": "markdown",
   "id": "e4e75ec9",
   "metadata": {},
   "source": [
    "# Ecrire un programme en langage Python qui demande à l’utilisateur de saisir un nombre entier n et de lui afficher si ce nombre est carré parfait ou non."
   ]
  },
  {
   "cell_type": "code",
   "execution_count": 4,
   "id": "6264bfd4",
   "metadata": {},
   "outputs": [
    {
     "name": "stdout",
     "output_type": "stream",
     "text": [
      "Tapez la valeur de n :  4\n",
      "L'entier   4  est un carré parfait\n"
     ]
    }
   ],
   "source": [
    "# Lire la valeur de l'entier n\n",
    "n = int(input(\"Tapez la valeur de n :  \"))\n",
    "# On utilise un compteur j \n",
    "j = 0\n",
    "for i in range(0,n):\n",
    "    if(i**2 == n):\n",
    "        j = j +1\n",
    "if(j > 0):\n",
    "    print(\"L'entier  \", n , \" est un carré parfait\")\n",
    "else:\n",
    "    print(\"l'entier \", n , \" n'est pas est un carré parfait\")"
   ]
  },
  {
   "cell_type": "markdown",
   "id": "bf7cfda3",
   "metadata": {},
   "source": [
    "# Ecrire un programme en langage Python qui demande à l'utilisateur de saisir un nombre entier n et de lui afficher si ce nombre est premier ou non."
   ]
  },
  {
   "cell_type": "code",
   "execution_count": 3,
   "id": "133adc47",
   "metadata": {},
   "outputs": [
    {
     "name": "stdout",
     "output_type": "stream",
     "text": [
      "Tapez la valeur de n :  10\n",
      "Le nombre   10  n'est pas premier\n"
     ]
    }
   ],
   "source": [
    "# Lire la valeur de l'entier n\n",
    "n = int(input(\"Tapez la valeur de n :  \"))\n",
    "# on utilise un compteur qui compte le nombre de diviseurs de n\n",
    "j = 0\n",
    "for i in range(1, n+1):\n",
    "    if(n%i == 0):\n",
    "        j = j + 1\n",
    "\n",
    "# On teste si le nombre de diviseurs de n est = 2 pour conclure que n est premier\n",
    "if( j == 2):\n",
    "    print(\"Le nombre  \", n , \" est premier\")\n",
    "else:\n",
    "    print(\"Le nombre  \", n , \" n'est pas premier\")"
   ]
  },
  {
   "cell_type": "markdown",
   "id": "e9efe919",
   "metadata": {},
   "source": [
    "# Ecrire un programme en langage Python qui permet de parcourir et afficher les caractères d’une variable du type chaine de caractères. Exemple pour s = « Python » , le programme affiche les caractères :\n",
    "# P\n",
    "# y\n",
    "# t\n",
    "# h\n",
    "# o\n",
    "# n"
   ]
  },
  {
   "cell_type": "code",
   "execution_count": 4,
   "id": "f21d9c3c",
   "metadata": {},
   "outputs": [
    {
     "name": "stdout",
     "output_type": "stream",
     "text": [
      "Saisisir une chaine de caractères s : python\n",
      "p\n",
      "y\n",
      "t\n",
      "h\n",
      "o\n",
      "n\n"
     ]
    }
   ],
   "source": [
    "# Demander à l'utilisateur de saisir une chaine de caractères\n",
    "s = input(\"Saisisir une chaine de caractères s : \")\n",
    "\n",
    "# obtenir la longueur de s\n",
    "n = len(s)\n",
    "for i in range(0, n):\n",
    "    print(s[i])"
   ]
  },
  {
   "cell_type": "code",
   "execution_count": null,
   "id": "dbb2c49f",
   "metadata": {},
   "outputs": [],
   "source": [
    "# Demander à l'utilisateur de saisir une chaine de caractères s\n",
    "s = input(\"Tapez une chaine de caractères s : \")\n",
    "for x in s:\n",
    "    print(x)"
   ]
  },
  {
   "cell_type": "markdown",
   "id": "47d44d9c",
   "metadata": {},
   "source": [
    "# Ecrire un programme en Python permettant d’afficher pour une chaine de caractères donnée, le nombre d’occurrences de chaque caractère dans la chaine. Exemple pour la chaine de caractère s = « Python.org » le programme doit afficher :\n",
    "# Le caractère : \" P \" figure 1 fois dans la chaine s\n",
    "# Le caractère : \" y \" figure 1 fois dans la chaine s\n",
    "# Le caractère : \" t \" figure 1 fois dans la chaine s\n",
    "# Le caractère : \" h \" figure 1 fois dans la chaine s\n",
    "# Le caractère : \" o \" figure 2 fois dans la chaine s\n",
    "# Le caractère : \" n \" figure 1 fois dans la chaine s\n",
    "# Le caractère : \" . \" figure 1 fois dans la chaine s\n",
    "# Le caractère : \" r \" figure 1 fois dans la chaine s\n",
    "# Le caractère : \" g \" figure 1 fois dans la chaine s"
   ]
  },
  {
   "cell_type": "code",
   "execution_count": null,
   "id": "cc9110a9",
   "metadata": {},
   "outputs": [],
   "source": [
    "s = \"Python est un langage de programmation\"\n",
    "# regrouper les caractères de s dans un ensemble pour éviter les répetitions\n",
    "unique =set({})\n",
    "for x in s:\n",
    "    if x not in unique:\n",
    "        unique.add(x)\n",
    "        print(\"Le nombre d'occurrences du caractère: \", x, \" dans la chaine s est :\", s.count(x))\n",
    "\"\"\"\n",
    "Ce qui affiche après exécution :\n",
    "Le nombre d'occurrences du caractère:  P  dans la chaine s est : 1\n",
    "Le nombre d'occurrences du caractère:  y  dans la chaine s est : 1\n",
    "Le nombre d'occurrences du caractère:  t  dans la chaine s est : 3\n",
    "Le nombre d'occurrences du caractère:  h  dans la chaine s est : 1\n",
    "Le nombre d'occurrences du caractère:  o  dans la chaine s est : 3\n",
    "Le nombre d'occurrences du caractère:  n  dans la chaine s est : 4\n",
    "Le nombre d'occurrences du caractère:     dans la chaine s est : 5\n",
    "Le nombre d'occurrences du caractère:  e  dans la chaine s est : 3\n",
    "Le nombre d'occurrences du caractère:  s  dans la chaine s est : 1\n",
    "Le nombre d'occurrences du caractère:  u  dans la chaine s est : 1\n",
    "Le nombre d'occurrences du caractère:  l  dans la chaine s est : 1\n",
    "Le nombre d'occurrences du caractère:  a  dans la chaine s est : 4\n",
    "Le nombre d'occurrences du caractère:  g  dans la chaine s est : 3\n",
    "Le nombre d'occurrences du caractère:  d  dans la chaine s est : 1\n",
    "Le nombre d'occurrences du caractère:  p  dans la chaine s est : 1\n",
    "Le nombre d'occurrences du caractère:  r  dans la chaine s est : 2\n",
    "Le nombre d'occurrences du caractère:  m  dans la chaine s est : 2\n",
    "Le nombre d'occurrences du caractère:  i  dans la chaine s est : 1"
   ]
  },
  {
   "cell_type": "markdown",
   "id": "931589a0",
   "metadata": {},
   "source": [
    "# Ecrire un programme en Python qui demande à l’utilisateur de saisir une chaine de caractère s et de lui renvoyer un message indiquant si la chaine contient la lettre 'a' tout en indiquant sa position sur la chaine. Exemple si l’utilisateur tape la chaine s = ‘langage’ le programme lui renvoie : La lettre 'a' se trouve à la position : 1 La lettre 'a' se trouve à la position : 4"
   ]
  },
  {
   "cell_type": "code",
   "execution_count": null,
   "id": "2444d179",
   "metadata": {},
   "outputs": [],
   "source": [
    "# Demander à l'utilisateur de tapez la valeur de s\n",
    "s = input(\"Tapez la valeur de s : \")\n",
    "\n",
    "# Obtenir la longueur de la chaine s\n",
    "n = len(s)\n",
    "\n",
    "# Parcourir la chaine s tout en recherchant le caractère 'a'\n",
    "for i in range(0,n):\n",
    "    # Tester si le caractère rencontré est égale à 'a'\n",
    "    if(s[i] == 'a'):\n",
    "        print(\"Le caractère  'a' se trouve à la  position : \", i , \" dans la chaine s\")"
   ]
  },
  {
   "cell_type": "markdown",
   "id": "bb8d5de3",
   "metadata": {},
   "source": [
    "# Ecrire un programme en Python qui permet de lister les chaines qui composent la liste l = [\"laptop\", \"iphone\", \"tablet\"] tout en indiquant la longueur de chaque chaine."
   ]
  },
  {
   "cell_type": "code",
   "execution_count": null,
   "id": "efebaadc",
   "metadata": {},
   "outputs": [],
   "source": [
    "l = [\"laptop\", \"iphone\", \"tablet\", \"printer\", \"Ipad\"]\n",
    "# parcourir les éléments de la liste  l\n",
    "for x in l:\n",
    "    print(x, \" is in list l, its length is: \", len(x))"
   ]
  },
  {
   "cell_type": "markdown",
   "id": "f8483a52",
   "metadata": {},
   "source": [
    "# Ecrire un programme en langage Python, permettant d’échanger le premier et le dernier caractère d’une chaine donnée."
   ]
  },
  {
   "cell_type": "code",
   "execution_count": null,
   "id": "431aa961",
   "metadata": {},
   "outputs": [],
   "source": [
    "# definir un exemple de chaine  s\n",
    "s = \"www.tresfacile.net\"\n",
    "# obtenir la longueur de la chaine s\n",
    "n = len(s)\n",
    "# obtenir le premier caractère de la chaine s\n",
    "first = s[0]\n",
    "last = s[n-1]\n",
    "# extraire la sous chaine obtenue à partir de s en ignorant le premier et le dernier caractère\n",
    "s1 = s[1:n-1]\n",
    "# construire une nouvelle chaine en changeant le premier et le dernier caractère\n",
    "s2 = last + s1 + first\n",
    "print(s2)"
   ]
  },
  {
   "cell_type": "markdown",
   "id": "32fd4fb2",
   "metadata": {},
   "source": [
    "Ecrire un programme en langage Python, qui permet de compter le nombre de voyelles dans une chaine donnée. Exemple pour la chaine s=‘anticonstitutionellement’ le programme doit renvoyer le message suivant : La chaine anticonstitutionellement possède 10 voyelles."
   ]
  },
  {
   "cell_type": "code",
   "execution_count": null,
   "id": "60e7f703",
   "metadata": {},
   "outputs": [],
   "source": [
    "# definir les voyelles dans un ensemble\n",
    "vowels= {'a','e','y','u','i','o'}\n",
    "# definir une chaine de caractères\n",
    "s = \"anticonstitutionellement\"\n",
    "# obtenir la longueur de la chaine s\n",
    "n = len(s)\n",
    "# initialiser le nombre de voyelles à 0\n",
    "number_vowels = 0\n",
    "# parcourir les caractères de la chaine s\n",
    "for i in range(0,n):\n",
    "    if(s[i] in vowels):\n",
    "        number_vowels = number_vowels + 1\n",
    "print(\"Le nombre de voyelles de la chaine 's' est : \", number_vowels)"
   ]
  },
  {
   "cell_type": "markdown",
   "id": "b2c77aed",
   "metadata": {},
   "source": [
    "Ecrire un programme en Python, qui permet de renvoyer le premier mot d’un texte donné. Exemple pour le texte : t ='Python est un merveilleux langage de programmation', le programme doit renvoyer Python"
   ]
  },
  {
   "cell_type": "code",
   "execution_count": null,
   "id": "3d6e538b",
   "metadata": {},
   "outputs": [],
   "source": [
    "# programme qui détermine le premier mot d'une chain de cractères en Python\n",
    "# définir une chaine de caractères s \n",
    "s = \"Apprendre Python sur www.tresfacile.net\"\n",
    "\n",
    "# initialiser le premier mot à une chaine vide\n",
    "premierMot = \"\"\n",
    "\n",
    "# initialiser le compteur\n",
    "i = 0\n",
    "# chercher le premier espace sur la chaine\n",
    "while (s[i] != \" \"):\n",
    "    premierMot = premierMot + s[i]\n",
    "    i = i + 1\n",
    "print(\"Le premier mot de la chaine s est  : \", s[:i])"
   ]
  },
  {
   "cell_type": "markdown",
   "id": "c26a9bc6",
   "metadata": {},
   "source": [
    "Ecrire un programme en langage Python qui demande à l’utilisateur de saisir le nom d’un fichier et de lui renvoyer son extension. Exemple si l’utilisateur saisie coursPython.pdf, le programme lui renvoie le message  \"L’extension du fichier est .pdf\""
   ]
  },
  {
   "cell_type": "code",
   "execution_count": null,
   "id": "37bef306",
   "metadata": {},
   "outputs": [],
   "source": [
    "# Demander à l'utilisateur de saisir un nom de fichier\n",
    "fichier = input(\"Saisir le nom du fichier avec son extension: \")\n",
    "# convertir fichier en liste\n",
    "L = fichier.split(\".\")\n",
    "extensionFichier = \".\"+ L[-1]\n",
    "print(\"L'extension du fichier est : \", extensionFichier)"
   ]
  },
  {
   "cell_type": "markdown",
   "id": "97ac8d35",
   "metadata": {},
   "source": [
    "Un palindrome est un mot dont l'ordre des lettres reste le même si on le lit de gauche à droite ou de droite à gauche. Par exemple : 'laval' , 'radar, 'sos'... sont des palindromes. Ecrire un programme en Python qui demande à l'utilisateur de saisir un mot et de lui renvoyer s'il s'agit d'un palindrome ou non?"
   ]
  },
  {
   "cell_type": "code",
   "execution_count": null,
   "id": "0887f2df",
   "metadata": {},
   "outputs": [],
   "source": [
    "# Demander à l'utilisateur de saisir un mot\n",
    "mot = input(\"Saisir un mot : \")\n",
    "# inverser le mot\n",
    "inverse = mot[::-1]\n",
    "if(mot == inverse):\n",
    "    print(\"Le mot :\", mot,\" est un palindrome\")\n",
    "else:\n",
    "    print(\"Le mot : \", mot, \" n'est pas un palindrome\")"
   ]
  },
  {
   "cell_type": "markdown",
   "id": "1d341273",
   "metadata": {},
   "source": [
    "Ecrire un programme qui demande à l’utilisateur de saisir un mot et de lui renvoyer son inverse. Exemple si l’utilisateur saisi le mot python , le programme lui renvoie nohtyp."
   ]
  },
  {
   "cell_type": "code",
   "execution_count": null,
   "id": "4e4f74bc",
   "metadata": {},
   "outputs": [],
   "source": [
    "# Lire la variable string s\n",
    "s = input(\"Tapez une chaine s : \")\n",
    "\n",
    "# obtenir l'inverse de la chaine s\n",
    "s1 = s[::-1]\n",
    "\n",
    "print(\"L'inverse de la chaine : '\",s,\"' est : \", s1)"
   ]
  },
  {
   "cell_type": "code",
   "execution_count": null,
   "id": "43958b6f",
   "metadata": {},
   "outputs": [],
   "source": [
    "#second methode \n",
    "# Lire la variable string s\n",
    "s = input(\"Tapez une chaine s : \")\n",
    "# initialiser l'inverse à une chaine vide\n",
    "inv = \"\"\n",
    "\n",
    "# construction de l'inverse d'une façon récursive\n",
    "for x in s:\n",
    "    inv = x + inv\n",
    "print(\"L'inverse de la chaine : '\",s,\"' est : \", inv)"
   ]
  },
  {
   "cell_type": "markdown",
   "id": "aa3ecfdb",
   "metadata": {},
   "source": [
    "Ecrire un programme qui demande à l’utilisateur de saisir un texte et de lui renvoyer tous les mots commençant par la lettre a."
   ]
  },
  {
   "cell_type": "code",
   "execution_count": null,
   "id": "f985553e",
   "metadata": {},
   "outputs": [],
   "source": [
    "# Lire la chaine s\n",
    "s = input(\"Tapez une chaine de caractères s : \")\n",
    "# convertir la chaine s en une liste\n",
    "s = s.split()\n",
    "# chercher tous les éléments de la liste qui commencent par la lettre 'a' \n",
    "for x in s:\n",
    "    if(x[0] == 'a'):\n",
    "        print(\"Le mot : \", x, \" commence par la lettre 'a'\")"
   ]
  },
  {
   "cell_type": "code",
   "execution_count": null,
   "id": "92ac378f",
   "metadata": {},
   "outputs": [],
   "source": [
    "#second method\n",
    "# Lire la chaine s\n",
    "s = input(\"Tapez une chaine de caractères s : \")\n",
    "\n",
    "# convertir la chaine s en une liste\n",
    "s = s.split()\n",
    "\n",
    "# obtenir la longueur de la liste s\n",
    "n = len(s)\n",
    "\n",
    "# rechercher les éléments de la liste qui commencent par la lettre 'a' \n",
    "for i in range(0,n):\n",
    "        if(s[i][0] == 'a'):\n",
    "                print(\"Le mot : '\", s[i], \"' commence par la lettre 'a'\")"
   ]
  },
  {
   "cell_type": "markdown",
   "id": "6f6f6812",
   "metadata": {},
   "source": [
    "https://www.tresfacile.net/tp-python-avec-solutions/"
   ]
  },
  {
   "cell_type": "code",
   "execution_count": null,
   "id": "3cc01731",
   "metadata": {},
   "outputs": [],
   "source": []
  },
  {
   "cell_type": "markdown",
   "id": "7b4659bb",
   "metadata": {},
   "source": [
    "Écrire un programme en Python sous forme de fonction qui calcul la somme des éléments d'une liste de nombres. Et un autre qui permet de multiplier tous les éléments d'une liste de nombres."
   ]
  },
  {
   "cell_type": "code",
   "execution_count": null,
   "id": "65246f30",
   "metadata": {},
   "outputs": [],
   "source": [
    "# Fonction qui calcul le produit des éléments d'une liste\n",
    "def mult(l):\n",
    "    m = 1 \n",
    "    # Création du produit en parcourant les éléments de la liste\n",
    "    for x in l:\n",
    "        m = m*x\n",
    "    return m\n",
    "print(mult([2,5,3]))\n",
    "\n",
    "# Fonction qui calcul la somme des éléments d'une liste\n",
    "def sum(l):\n",
    "    s = 0 \n",
    "    # Création de la somme en parcourant les éléments de la liste\n",
    "    for x in l:\n",
    "        s = s + x\n",
    "    return s\n",
    "print(sum([2,5,3])) "
   ]
  },
  {
   "cell_type": "markdown",
   "id": "ffc628e2",
   "metadata": {},
   "source": [
    "Écrire un programme Python qui teste si une liste est vide ou non. Même question pour une chaine de caractères."
   ]
  },
  {
   "cell_type": "code",
   "execution_count": null,
   "id": "6edc97b3",
   "metadata": {},
   "outputs": [],
   "source": [
    "# -*- coding: UTF-8 -*-\n",
    "# Tester si une liste L est vide\n",
    "# définir une liste L\n",
    "L = list()\n",
    "\n",
    "# essayer si la liste L est vide\n",
    "if L == []:\n",
    "    print (\"La liste L est vide\")\n",
    "else:\n",
    "    print (\"La liste L n'est pas vide\")\n",
    "\n",
    "\n",
    "#Tester si une chaîne est vide\n",
    "\n",
    "\n",
    "# définir une chaîne s\n",
    "s = \"\"\n",
    "\n",
    "# Tester si une chaîne s est vide\n",
    "if s == \"\":\n",
    "    print (\"La chaîne s est vide\")\n",
    "else:\n",
    "    print (\"La liste n'est pas vide\")"
   ]
  },
  {
   "cell_type": "markdown",
   "id": "94126de3",
   "metadata": {},
   "source": [
    "Écrire un programme Python qui permet de supprimer les éléments dupliqués d'une liste."
   ]
  },
  {
   "cell_type": "code",
   "execution_count": null,
   "id": "001c17f0",
   "metadata": {},
   "outputs": [],
   "source": [
    "# définit une fonction qui supprime les doublons dans la liste\n",
    "def removeDuplicate(l):\n",
    "    # définir et initialiser la liste sans élément dupliqué\n",
    "    unique = []\n",
    "    # construction de la liste sans éléments dupliqués\n",
    "    for x in l:\n",
    "        if x not in unique:\n",
    "            unique.append(x)\n",
    "    return unique        \n",
    "\n",
    "# Exemple\n",
    "l = [2, 7, 13, 2, 17, 13, 2, 7, 13]\n",
    "print (removeDuplicate(l))"
   ]
  },
  {
   "cell_type": "code",
   "execution_count": null,
   "id": "a0275022",
   "metadata": {},
   "outputs": [],
   "source": [
    "#2eme methode \n",
    "# définir la fonction qui supprie les élément dupliqués d'une liste\n",
    "def removeDuplicate(l):\n",
    "    # convertir la liste en un ensemble\n",
    "    SET = set(l)\n",
    "    # reconvertir l'ensemble en une liste\n",
    "    L   = list(SET)\n",
    "    return L\n",
    "\n",
    "# Exemple\n",
    "l = [2, 7,7, 13, 2, 17,25, 17, 13, 15, 15, 2, 7, 13]\n",
    "print(removeDuplicate(l))"
   ]
  },
  {
   "cell_type": "markdown",
   "id": "e74a9eb2",
   "metadata": {},
   "source": [
    "Ecrire une fonction en Python qui permet de comparer deux listes et de nous indiquer si ces deux listes ont une valeur communes ou non."
   ]
  },
  {
   "cell_type": "code",
   "execution_count": null,
   "id": "9ece1d92",
   "metadata": {},
   "outputs": [],
   "source": [
    "def elementsCommun(l1,l2):\n",
    "    compteur = 0\n",
    "    for x in l1:\n",
    "        if x in l2:\n",
    "            compteur =compteur + 1\n",
    "    if compteur != 0:\n",
    "        return True\n",
    "    else:\n",
    "        return False\n",
    "\n",
    "l1 = [2,35,5,6,21]\n",
    "l2 = [2,13,5,7,19]\n",
    "print(elementsCommun(l1,l2))\n",
    "# Ce qui affiche True"
   ]
  },
  {
   "cell_type": "markdown",
   "id": "c4f978c8",
   "metadata": {},
   "source": [
    "Écrire un programme Python qui permet d’extraire la liste des entiers pairs et la liste des entiers impairs d’une liste de nombres."
   ]
  },
  {
   "cell_type": "code",
   "execution_count": null,
   "id": "b0b70e3a",
   "metadata": {},
   "outputs": [],
   "source": [
    "def extract(l):\n",
    "    pair = []\n",
    "    impair = []\n",
    "    for x in l:\n",
    "        if(x%2 == 0):\n",
    "            pair.append(x)\n",
    "        else:\n",
    "            impair.append(x)\n",
    "    print(\"La liste des entiers pair est : \",pair)\n",
    "    print(\"La liste des entiers impair est : \",impair)\n",
    "# Tester l'algorithme\n",
    "l =[23,4,56,7,8,9,0,18,7,6,55,43,2]\n",
    "print(extract(l))\n",
    "\"\"\"\n",
    "Ce qui affiche après exécution :\n",
    "La liste des entiers pair est :  [4, 56, 8, 0, 18, 6, 2]\n",
    "La liste des entiers impair est :  [23, 7, 9, 7, 55, 43]\n",
    "\"\"\""
   ]
  },
  {
   "cell_type": "markdown",
   "id": "c82562f4",
   "metadata": {},
   "source": [
    "Écrire un programme en Python qui renvoie toutes les listes obtenues en permutant les termes d’une liste donnée."
   ]
  },
  {
   "cell_type": "code",
   "execution_count": null,
   "id": "7fcc8769",
   "metadata": {},
   "outputs": [],
   "source": [
    "\"\"\"\n",
    "importation du module itertools:\n",
    "Ce module implémente de nombreux blocks d'itérateurs inspirées des constructions APL, Haskell et SML.\n",
    "\"\"\"\n",
    "import itertools\n",
    "# Exemple d'utilisation\n",
    "l = [1,2,3,4]\n",
    "permutations = itertools.permutations(l)\n",
    "L = list(permutations)\n",
    "print (\"Les listes obtenues en échangeant les termes de la liste l:\\n\", L)"
   ]
  },
  {
   "cell_type": "markdown",
   "id": "9e905d2a",
   "metadata": {},
   "source": [
    "Ecrire un programme en Python qui demande à l'utilisateur de saisir une chaine de caractères et d'afficher les caractères d'indice pair. Exemple pour la chaine s = \"Python\", le programme renvoie 'Pto'."
   ]
  },
  {
   "cell_type": "code",
   "execution_count": null,
   "id": "83b7239c",
   "metadata": {},
   "outputs": [],
   "source": [
    "# Lire la chaine s\n",
    "s = input(\"Saisissez la chaine s :\")\n",
    "s1 = \"\"\n",
    "i = 0\n",
    "while(i<len(s)-1):\n",
    "    s1 = s1 + s[i]\n",
    "    i = i +2\n",
    "print(s1)"
   ]
  },
  {
   "cell_type": "code",
   "execution_count": null,
   "id": "a15c8741",
   "metadata": {},
   "outputs": [],
   "source": [
    "\"\"\"\n",
    "# Lire la chaine s\n",
    "s = input(\"Saisissez la chaine s :\")\n",
    "\n",
    "# parcourt de la chaine s avec le pas = 2\n",
    "print(s[0:len(s):2])"
   ]
  },
  {
   "cell_type": "markdown",
   "id": "84e59ff3",
   "metadata": {},
   "source": [
    "Etant donnée la liste des notes des élèves :  notes = [12 , 04 , 14 , 11 ,  18 , 13 ,  07, 10 , 05 , 09 , 15 , 08 , 14 , 16]  Ecrire un programme Python qui permet d’extraire  de cette liste et créer une autre liste qui contient uniquement les notes au dessus de la myenne ( les notes  >= 10 )"
   ]
  },
  {
   "cell_type": "code",
   "execution_count": null,
   "id": "daa95daf",
   "metadata": {},
   "outputs": [],
   "source": [
    "notes = [12, 4, 14, 11, 18, 13, 7, 10, 5, 9, 15, 8, 14, 16]\n",
    "\n",
    "# définir la liste qui contiendra les notes au-dessus de la moyenne\n",
    "moyenne = []\n",
    "for x in notes:\n",
    "    # ajouter uniquement les notes >= 10 à la liste moyenne\n",
    "    if(x >= 10):\n",
    "        moyenne.append(x)\n",
    "\n",
    "print (\"La liste contenant uniquement les notes supérieures à la moyenne est:\\n\", moyenne)"
   ]
  },
  {
   "cell_type": "markdown",
   "id": "a8597cd8",
   "metadata": {},
   "source": [
    "Ecrire un programme en Python qui permet de transformer une adresse url saisie au clavier en un lien hypertexte."
   ]
  },
  {
   "cell_type": "code",
   "execution_count": null,
   "id": "46008dbd",
   "metadata": {},
   "outputs": [],
   "source": [
    "# Lire adresse url\n",
    "url = input(\"Saisir une url :\")\n",
    "# Lire le texte du lien hypertexte\n",
    "text_lien = input(\"saisir le texte du lien\")\n",
    "# convert the url text to a link \n",
    "url = \"<a href='\"+ url + \"'> \" + text_lien + \"</a>\"\n",
    "print(url)"
   ]
  },
  {
   "cell_type": "markdown",
   "id": "f290042d",
   "metadata": {},
   "source": [
    "Ecrire un programme en Python permettant de supprimer les espaces multiples dans une chaine s."
   ]
  },
  {
   "cell_type": "code",
   "execution_count": null,
   "id": "f17aed3c",
   "metadata": {},
   "outputs": [],
   "source": [
    "s = \"Exemple     de texte avec des    espaces     multiple\"\n",
    "# Transformer le texte en une liste \n",
    "L = s.split()\n",
    "\n",
    "# initialiser le texte sans espace à un texte vide\n",
    "texteSansEspace = \"\"\n",
    "\n",
    "# Reconstruire le texte en parcourant les éléments de la liste \n",
    "for x in L:\n",
    "    texteSansEspace = texteSansEspace + x + \" \"\n",
    "print(texteSansEspace)"
   ]
  },
  {
   "cell_type": "markdown",
   "id": "270744d1",
   "metadata": {},
   "source": [
    "Ecrire un programme Python qui permet de regrouper dans une liste les mots communs à deux chaines s1 et s2."
   ]
  },
  {
   "cell_type": "code",
   "execution_count": null,
   "id": "7a98a73c",
   "metadata": {},
   "outputs": [],
   "source": [
    "def motsCommuns(s1,s2):\n",
    "    L1 = s1.split()\n",
    "    L2 = s2.split()\n",
    "    communs = []\n",
    "    for x in L1:\n",
    "        if(x in L2):\n",
    "            communs.append(x)\n",
    "    return communs\n",
    "# Exemple \n",
    "s1 = \" Python est un langage de programmation de haut niveau\"\n",
    "s2 = \" Python est un langage interprété\"\n",
    "print(\"La liste des mots communs à s1 et s2 est : \",motsCommuns(s1,s2))"
   ]
  },
  {
   "cell_type": "markdown",
   "id": "9a78a214",
   "metadata": {},
   "source": [
    "Ecrire un programme Python qui permet de chercher le mot le plus long sur une chaine s"
   ]
  },
  {
   "cell_type": "code",
   "execution_count": null,
   "id": "2bc9d338",
   "metadata": {},
   "outputs": [],
   "source": [
    "def motMax(s):\n",
    "    L = s.split()\n",
    "    mot = \"\"\n",
    "    for x in L:\n",
    "        if(len(x)>len(mot)):\n",
    "            mot = x\n",
    "    return mot\n",
    "# Exemple\n",
    "s = \"Python est un langage de programmation orienté objet\"\n",
    "print(\"Le mot le plus long dans la chaine s est : \", motMax(s))"
   ]
  },
  {
   "cell_type": "markdown",
   "id": "39803840",
   "metadata": {},
   "source": [
    "Ecrire un programme Python qui permet de compter le nombres de mots sur une chaîne s. On suppose que le texte est bien formé ( un espace après chaque ponctuation et aucun espace avant la ponctuation)"
   ]
  },
  {
   "cell_type": "code",
   "execution_count": null,
   "id": "e48e3377",
   "metadata": {},
   "outputs": [],
   "source": [
    "s = \"Python est un langage de programmation. Python est orienté objet\"\n",
    "\n",
    "# Transformation de la chaine s en une liste\n",
    "L = s.split()\n",
    "\n",
    "# Récupération du nombre d'élément de la liste L\n",
    "nombreMots = len(L)\n",
    "print(\"Le nombre de mot de la chaine s est : \", nombreMots)"
   ]
  },
  {
   "cell_type": "markdown",
   "id": "12d6e54f",
   "metadata": {},
   "source": [
    "Ecrire un programme Python qui permet d’échanger le premier et le dernier mot. Exemple si s = \"Pyhon est un langage de programmation\", le programme renvoie la chaine s2 = \"programmation  est un langage de Pyhon\".   On suppose que le texte est bien formé ( un espace après chaque ponctuation et aucun espace avant la ponctuation)"
   ]
  },
  {
   "cell_type": "code",
   "execution_count": null,
   "id": "65ba6183",
   "metadata": {},
   "outputs": [],
   "source": [
    "s = \"Python est un langage de programmation\"\n",
    "\n",
    "# Transformation de la chaine s en une liste L\n",
    "L = s.split()\n",
    "\n",
    "# Récupération du nombre d'élément de la liste L\n",
    "n = len(L)\n",
    "\n",
    "# récupération du premier et dernier élément\n",
    "premier = L[0]\n",
    "dernier = L[n-1]\n",
    "\n",
    "# On supprime le premier et le dernier élément de la liste L\n",
    "L.pop(n-1)\n",
    "L.pop(0)\n",
    "\n",
    "# On reconvertit la liste L en une chaine\n",
    "s1 = \" \".join(L)\n",
    "\n",
    "# échanger le premier et le dernier élément dans la chaine s\n",
    "s = dernier + \" \" + s1 + \" \" + premier\n",
    "print(s)"
   ]
  },
  {
   "cell_type": "markdown",
   "id": "7ce5e91f",
   "metadata": {},
   "source": [
    "Créez une fonction Python, appelée nombreDivisibles, qui s'applique à une liste de nombres et un entier n, et qui renvoie le nombre d’éléments de la liste qui sont divisible par n."
   ]
  },
  {
   "cell_type": "code",
   "execution_count": null,
   "id": "6e034ccf",
   "metadata": {},
   "outputs": [],
   "source": [
    "def nombreDivisibles(l,n):\n",
    "    i = 0\n",
    "    for k in l:\n",
    "        if( k%n == 0):\n",
    "            i = i + 1\n",
    "    return i\n",
    "l = [12, 4, 7, 9,11]\n",
    "n = 3\n",
    "print(\"Le nombre d'élément de l qui sont divisible par \",n, \" est : \",nombreDivisibles(l,n)) "
   ]
  },
  {
   "cell_type": "markdown",
   "id": "dc6e5ca6",
   "metadata": {},
   "source": [
    "Créer une fonction en Python nombreOccurences() qui s’applique à une liste L et un élément x comme paramètres et qui retourne le nombre de fois où l’élément x apparait dans la liste L sans utiliser la fonction count()."
   ]
  },
  {
   "cell_type": "code",
   "execution_count": null,
   "id": "2f7e54c1",
   "metadata": {},
   "outputs": [],
   "source": [
    "def nombreOccurences(L , x):\n",
    "    occ = 0\n",
    "    for element in L:\n",
    "        if element == x:\n",
    "            occ += 1\n",
    "    return occ\n",
    "        \n",
    "L = [3 , 11 , 3 ,8 , 3 , 23 , 3,  7 , 11, 3]\n",
    "print(\"Le nombr d'occurrences de 3 dans l est : \" , nombreOccurences(L,3))"
   ]
  },
  {
   "cell_type": "markdown",
   "id": "e4ceb0b0",
   "metadata": {},
   "source": [
    "Créer une fonction Python nommée InsertEtoile()  qui place  des  'étoiles' entre chaque caractères d’une chaine fournie en entrée. Exemple pour la chaine s = “Python” , InsertEtoile(s) donne P*t*h*o*n"
   ]
  },
  {
   "cell_type": "code",
   "execution_count": null,
   "id": "bb762ade",
   "metadata": {},
   "outputs": [],
   "source": [
    "def insertEtoile(s):\n",
    "    \"\"\"création d'une chaine vide qui va contenir\n",
    "    les caractères de la chaine s et séparés par des étoiles\n",
    "    \"\"\"\n",
    "    s2 = \"\"\n",
    "    \n",
    "    #insérer des * entre les caractères de la chaine s\n",
    "    for x in s:\n",
    "        s2 = s2 + x + \"*\"\n",
    "    return s2\n",
    "\n",
    "# Exemple:\n",
    "s = \"Python\"\n",
    "print(insertEtoile(s))"
   ]
  },
  {
   "cell_type": "markdown",
   "id": "65dfd0a0",
   "metadata": {},
   "source": [
    "Créer une fonction Python nommée toutEnMajuscule() qui permet de transformer une liste de chaines en une autre liste constituée de chaines en majuscule."
   ]
  },
  {
   "cell_type": "code",
   "execution_count": null,
   "id": "5740d664",
   "metadata": {},
   "outputs": [],
   "source": [
    "def maj(L):\n",
    "    # Création d'une liste vide qui acceuillir les mots en majuscule \n",
    "    listMaj = []\n",
    "    \n",
    "    # récupération des mots de L et les insérer en majusculer dans la liste listMaj\n",
    "    for word in L:\n",
    "        listMaj.append(word.upper())\n",
    "    return listMaj\n",
    "\n",
    "# Tester le programme\n",
    "L = [\"Python\", \"est\", \"un\", \"langage\", \"de\", \"programmation\"] \n",
    "print(maj(L))"
   ]
  },
  {
   "cell_type": "markdown",
   "id": "98dfcf5e",
   "metadata": {},
   "source": [
    "Écrire une fonction en  Python qui prends en argument une chaine de caractères s et qui renvoie le nombre de minuscules et de majuscules contenu dans la chaine s."
   ]
  },
  {
   "cell_type": "code",
   "execution_count": null,
   "id": "6882e041",
   "metadata": {},
   "outputs": [],
   "source": [
    "def nombreMajMin(s):\n",
    "    \n",
    "    # on initialise le nombre de majuscules et de minuscules à zéro\n",
    "    nombreMaj = 0\n",
    "    nombreMin = 0\n",
    " \n",
    " \n",
    "    # on parcourt les lettres de s en testant si le caractère est maj ou min\n",
    "    for lettre in s:\n",
    "        if(lettre.isupper()):\n",
    "            nombreMaj = nombreMaj + 1 \n",
    "        elif lettre.islower():\n",
    "            nombreMin = nombreMin + 1\n",
    "            \n",
    "    return (nombreMaj , nombreMin)\n",
    "# On teste l'algorithme\n",
    "s = \"Python\"\n",
    "print(nombreMajMin(s))\n",
    "print(\"Le nombre de majuscules est : \" , nombreMajMin(s)[0])\n",
    "print(\"Le nombre de minuscules est : \" , nombreMajMin(s)[1])"
   ]
  },
  {
   "cell_type": "markdown",
   "id": "47519257",
   "metadata": {},
   "source": [
    "Écrire un algorithme en langage Python qui permet de renvoyer une liste formée des mots communs à deux textes. Exemple si T1 = \"Python est un langage de programmation\"  et T2 = \"Python est orienté objet\" , le programme doit renvoyer la liste des mots communs L = ['Python' , 'est' ]."
   ]
  },
  {
   "cell_type": "code",
   "execution_count": null,
   "id": "e5af075f",
   "metadata": {},
   "outputs": [],
   "source": [
    "def motsCommuns(T1 , T2):\n",
    "    \n",
    "    # Convertir les textes en des listes \n",
    "    L1 = T1.split()\n",
    "    L2 = T2.split()\n",
    "    \n",
    "    # initialisation de la liste des mots communs à vide\n",
    "    communs = []\n",
    " \n",
    "    # on parcourt les éléments de la liste L1 et on teste leurs appartenance à L2\n",
    "    for mot in L1:\n",
    "        if mot in L2:\n",
    "            communs.append(mot) \n",
    "            \n",
    "    return communs\n",
    "\n",
    "# On teste l'algorithme\n",
    "T1 = \"Python est un langage de programmation\"  \n",
    "T2 = \"Python est orienté objet\"\n",
    "print(motsCommuns(T1,T2))\n",
    "# La sortie est : ['Python', 'est']"
   ]
  },
  {
   "cell_type": "markdown",
   "id": "a4584dde",
   "metadata": {},
   "source": [
    "Écrire une fonction en python qui prends en arguments  deux nombres entiers a  et  b   et qui renvoie un tuple formé de :\n",
    "\n",
    "1-Le quotient q de la division euclidienne de a par b (sans utiliser l'opérateur // )\n",
    "2-Le reste r de la division euclidienne de a par b (sans utiliser l'opérateur % )"
   ]
  },
  {
   "cell_type": "code",
   "execution_count": null,
   "id": "c516fccc",
   "metadata": {},
   "outputs": [],
   "source": [
    "# Création de la fonction quotient():\n",
    "def quotient(a,b):\n",
    "    q = 1 \n",
    "    if a < b :\n",
    "        return 0\n",
    "    else:\n",
    "        while ( b*q < a):\n",
    "            q = q + 1\n",
    "        return (q-1 , a - b*(q-1)) \n",
    "\n",
    "# Test de la fonction quotient \n",
    "print(\"Le quotien et le reste de la division euclidienne de 19 par 4 est  (q , r) = \", quotient(19,4))\n",
    "# Affiche: Le quotien et le reste de la division euclidienne de 19 par 4 est  (q , r) =  (4, 3)"
   ]
  },
  {
   "cell_type": "markdown",
   "id": "a096f0dc",
   "metadata": {},
   "source": [
    "Écrire un algorithme en Python qui demande à l’utilisateur de tapez deux nombres entiers a  et  b   et lui renvoie:\n",
    "\n",
    "1-Le PGCD de  a et b sans utiliser aucune fonction prédéfinie en python.\n",
    "2-Le PPCM de  a et b sans utiliser aucune fonction prédéfinie en python."
   ]
  },
  {
   "cell_type": "code",
   "execution_count": null,
   "id": "f960f268",
   "metadata": {},
   "outputs": [],
   "source": [
    "#1 PGCD\n",
    "def plusGrangDivCom(a,b):\n",
    "    # on prend d = a comme valeur initiale\n",
    "    d = a\n",
    "    \n",
    "    # tant que  d n'est pas un diviseur commun\n",
    "    while (a%d != 0 or b%d !=0):\n",
    "        # on décrement le d\n",
    "        d = d - 1\n",
    "    return d\n",
    "\n",
    "# on test la fonction\n",
    "print(\"Le plus grand diviseur commun de  9 et  12 est  d = \", plusGrangDivCom(9,12))\n",
    "# La sortie est: Le plus grand diviseur commun de 9 et 12 est d = 3"
   ]
  },
  {
   "cell_type": "code",
   "execution_count": null,
   "id": "fef0c549",
   "metadata": {},
   "outputs": [],
   "source": [
    "#PPCM\n",
    "def plusPetitMultCom(a,b):\n",
    "    # on prends m = a comme initiale valeur\n",
    "    m = a\n",
    "    \n",
    "    # tant que m n'est pas un multiple commun\n",
    "    while (m%a != 0 or m%b !=0):\n",
    "        # on incrémente le m\n",
    "        m = m + 1\n",
    "    return m\n",
    "\n",
    "# on test la fonction\n",
    "print(\"le plus petit multiple commun de 9 et 6  est m = \",plusPetitMultCom(9 , 6))\n",
    "#La sortie est : le plus petit multiple commun de 9 et 6  est m =  18 "
   ]
  },
  {
   "cell_type": "code",
   "execution_count": null,
   "id": "2fbb1c1c",
   "metadata": {},
   "outputs": [],
   "source": []
  }
 ],
 "metadata": {
  "kernelspec": {
   "display_name": "Python 3 (ipykernel)",
   "language": "python",
   "name": "python3"
  },
  "language_info": {
   "codemirror_mode": {
    "name": "ipython",
    "version": 3
   },
   "file_extension": ".py",
   "mimetype": "text/x-python",
   "name": "python",
   "nbconvert_exporter": "python",
   "pygments_lexer": "ipython3",
   "version": "3.10.0"
  }
 },
 "nbformat": 4,
 "nbformat_minor": 5
}
