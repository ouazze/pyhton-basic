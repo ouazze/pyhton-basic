{
 "cells": [
  {
   "cell_type": "markdown",
   "id": "bb4b5296",
   "metadata": {},
   "source": [
    "Graphique"
   ]
  },
  {
   "cell_type": "markdown",
   "id": "707016cb",
   "metadata": {},
   "source": [
    "En utilisant les exercices précédents  49 et 50, créer une interface graphique Tkinter, permettant de calculer le pgcd et le ppcm graphiquement comme le montre la figure ci-dessus :"
   ]
  },
  {
   "cell_type": "code",
   "execution_count": 1,
   "id": "072b89d6",
   "metadata": {},
   "outputs": [],
   "source": [
    "from tkinter import *  \n",
    "from tkinter import ttk\n",
    "\n",
    "\n",
    "root = Tk()\n",
    "root.geometry(\"350x170\")\n",
    "\n",
    "# Voir solution Exercice 49-50: https://www.tresfacile.net/solution-exercice-49-pgcd-ppcm-en-python/\n",
    "def pgcd(m,n):\n",
    "    d = min(m,n)\n",
    "    while(m%d != 0 or n%d != 0):\n",
    "        d = d - 1\n",
    "    return d\n",
    "\n",
    "# Voir solution Exercice 49-50: https://www.tresfacile.net/solution-exercice-49-pgcd-ppcm-en-python/\n",
    "def ppcm(m,n):\n",
    "    M = max(m,n)\n",
    "    while(M%m !=0 or M%n != 0):\n",
    "        M = M + 1\n",
    "    return M\n",
    "\n",
    "def action(event):\n",
    "    # on récupère la valeur sélectionnée de la liste cobobox\n",
    "    select = listeCombo.get()\n",
    "    \n",
    "    # récupération de la valeur de m depuis le champ de saisie \n",
    "    m = int(entry_m.get())\n",
    "    # récupération de la valeur de n depuis le champ de saisie\n",
    "    n = int(entry_n.get())\n",
    "    \n",
    "    if(select == \"PGCD\"):\n",
    "        lblResult['text'] = \"PGCD  = \"  + str(pgcd(m , n))\n",
    "    else:\n",
    "        lblResult['text'] = \"PPCM   = \" + str(ppcm(m , n))\n",
    "        \n",
    "    \n",
    "\n",
    "# Création du label et champ de saisie pour l'entier m\n",
    "lbl_m = Label(root , text =\"Enter value of m :  \")\n",
    "entry_m = Entry(root)\n",
    "lbl_m.place( x = 10 , y =20)\n",
    "entry_m.place( x = 150 , y = 20)\n",
    "\n",
    "# Création du label et champ de saisie pour l'entier n\n",
    "lbl_n = Label(root , text =\"Enter value of n :  \")\n",
    "lbl_n.place(x = 10 , y = 50 )\n",
    "entry_n = Entry(root)\n",
    "entry_n.place( x = 150 , y = 50)\n",
    "\n",
    "lblChoose = Label(root , text =\"Choose function :  \")\n",
    "lblChoose.place(x = 10 , y = 80)\n",
    "\n",
    "# Création de la liste combobox pour sélectionner la fonction\n",
    "listeCombo = ttk.Combobox(root, values=[ \"PGCD\" , \"PPCM\" ] )\n",
    "listeCombo.place(x = 150 , y = 80 , width = 165)\n",
    "listeCombo.bind(\"<<ComboboxSelected>>\", action)\n",
    "\n",
    "# Création d'un label qui affiche le résultat\n",
    "lblResult = Label(root , text =\"Result :  \")\n",
    "lblResult.place(x = 150 , y = 110)\n",
    "\n",
    "root.mainloop()"
   ]
  },
  {
   "cell_type": "markdown",
   "id": "7ecf6be0",
   "metadata": {},
   "source": [
    "Écrire un algorithme sous forme de fonction en Python qui prends en argument un entier n et qui renvoie True si l'entier n est premier et False si non."
   ]
  },
  {
   "cell_type": "code",
   "execution_count": null,
   "id": "5a65db80",
   "metadata": {},
   "outputs": [],
   "source": [
    "def primNumber(n):\n",
    "    # On initialise le nombre de diviseur de n à 0\n",
    "    numberOfDivisors = 0\n",
    "    for i in range(1,n+1):\n",
    "        \n",
    "        # tant que i est un diviseur de n on incrémente le nombre de diviseurs: numberOfDivisors\n",
    "        if n%i == 0:\n",
    "            numberOfDivisors = numberOfDivisors + 1\n",
    "    # le nombre n est premier si et seulement si numberOfDivisors == 2\n",
    "    if numberOfDivisors == 2:\n",
    "        return True\n",
    "    else:\n",
    "        return False\n",
    "# Test de la fonction\n",
    "print(primNumber(7)) # affiche : True\n",
    "print(primNumber(6)) # affiche : False"
   ]
  },
  {
   "cell_type": "markdown",
   "id": "0c65ae4f",
   "metadata": {},
   "source": [
    "Écrire un algorithme en Python sous forme de fonction qui prends deux nombres m et n en paramètres (m<n) et qui renvoie une liste formée de tous les nombres premiers compris entre m et n. Exemple pour m=10 et n=20 la fonction doit renvoyer [11 , 13 , 17 , 19]."
   ]
  },
  {
   "cell_type": "code",
   "execution_count": null,
   "id": "aa98ca32",
   "metadata": {},
   "outputs": [],
   "source": [
    "def primNumber(n):\n",
    "    # initialiser le nombre de diviseurs de n\n",
    "    numberOfDivisors = 0\n",
    "    for i in range(1,n+1):\n",
    "\n",
    "        # tant que i est un diviseur de n on incrémente le nombre de numberOfDivisors\n",
    "        if n%i == 0:\n",
    "            numberOfDivisors = numberOfDivisors + 1\n",
    "    # le nombre n est premier si et seulement si numberOfDivisors == 2\n",
    "    if numberOfDivisors == 2:\n",
    "        return True\n",
    "    else:\n",
    "        return False\n",
    "\n",
    "# maintenant on peut trouver l'ensemble des nombres premiers dans contenus dans l'intervalle [m,n]\n",
    "def listPrimNumbers(m,n):\n",
    "    listPrim = []\n",
    "    for i in range(m , n+1):\n",
    "\n",
    "        # on test si i est premier ou non\n",
    "        if (primNumber(i)):\n",
    "            # on ajoute i à listPrim\n",
    "            listPrim.append(i)\n",
    "    return listPrim\n",
    "\n",
    "# Testons la fonction\n",
    "print(listPrimNumbers(10,20))\n",
    "# La sortie est :  [11, 13, 17, 19]"
   ]
  },
  {
   "cell_type": "markdown",
   "id": "e3d811a0",
   "metadata": {},
   "source": [
    "Écrire un algorithme sous forme de fonction en Python qui prends en argument deux nombres entiers a  et  b   et lui renvoie True si les nombres sont premiers entre eux et False si non."
   ]
  },
  {
   "cell_type": "code",
   "execution_count": null,
   "id": "3e05dd2c",
   "metadata": {},
   "outputs": [],
   "source": [
    "def prim(n,m):\n",
    "    # compteur qui compte le nombre de diviseurs communs à m et n\n",
    "    nombreDiv = 0\n",
    "    for i in range(1,n+1):\n",
    "        # Si i est un diviseur commun à m et n on incrémente le compteur nombrDiv\n",
    "        if ( m%i == 0 and n%i == 0):\n",
    "            nombreDiv = nombreDiv + 1\n",
    "        # Si le nombre des diviseurs communs à m et n est = 1\n",
    "        # alors m et n sont premiers entre eux\n",
    "    if (nombreDiv  == 1):\n",
    "        return True\n",
    "    else:\n",
    "        return False\n",
    "# On teste l'algorithme\n",
    "print(prim(5,7)) # affiche True car 5 et 7 sont premiers entre eux\n",
    "print(prim(8, 12)) # affiche False car 8 et 12 ne sont pas premiers entre eux"
   ]
  },
  {
   "cell_type": "markdown",
   "id": "10318897",
   "metadata": {},
   "source": [
    "Écrire un algorithme en Python qui demande à l'utilisateur de tapez deux nombres entiers a  et  b  premiers entre eux et lui renvoie un tuple (u,v) vérifiant:  ua + vb = 1 (identité de Bezout)"
   ]
  },
  {
   "cell_type": "code",
   "execution_count": null,
   "id": "2732b581",
   "metadata": {},
   "outputs": [],
   "source": [
    "# Saisir les valeurs des entiers a et b\n",
    "a = int(input(\"Saisir la valeur de l'entier a: \"))\n",
    "b = int(input(\"Saisir la valeur de l'enier b: \"))\n",
    "# Initialiser la valeur de v à 1\n",
    "v = 1 \n",
    "# On cherche l'entier u tel que 1-vb soit un multiple de a\n",
    "# Tant que 1-vb n'est pas un multiple de a, on incrémente l'entier v\n",
    "while( (v*b-1)%a != 0 ):\n",
    "    v = v + 1\n",
    "# Maintenant l'égalité ua+vb=1 se traduit par\n",
    "u = int((1-v*b)/a)\n",
    "print(\"Le couple qui vérifie ua + vb = 1 est : \",(u,v))"
   ]
  },
  {
   "cell_type": "markdown",
   "id": "d76fec04",
   "metadata": {},
   "source": [
    "Déterminer la liste des diviseurs impairs du nombre  3570 qui sont multiples de 3 et contenus dans l'intervalle [500,  2500]"
   ]
  },
  {
   "cell_type": "code",
   "execution_count": null,
   "id": "7cca559b",
   "metadata": {},
   "outputs": [],
   "source": [
    "l = []\n",
    "n = 3570\n",
    "# on parcourt les entiers de 1 à n \n",
    "for i in range (1, n+1):\n",
    "    # on sélectionne les entiers vérifiant les conditions de l'hypothèse\n",
    "    if ( n%i == 0 and i%3==0 and i<=2500 and i>=500):\n",
    "        # on ajoute les entiers vérifiant l'hypothèse\n",
    "        l.append(i)\n",
    "print(\"La liste est : \", l)\n",
    "# Affiche: La liste est :  [510, 714, 1785]"
   ]
  },
  {
   "cell_type": "markdown",
   "id": "0b442f51",
   "metadata": {},
   "source": [
    "En utilisant la bibliothèque Python Tkinter , écrire un programme Python permettant d'afficher à l'utilisateur une boite de dialogue lui demandant de saisir un nombre entier et de lui renvoyer son double:"
   ]
  },
  {
   "cell_type": "code",
   "execution_count": null,
   "id": "6a45870a",
   "metadata": {},
   "outputs": [],
   "source": [
    "from tkinter import *\n",
    "\n",
    "# méthode qui réalise l'action\n",
    "def action():\n",
    "    # récupération de la valeur du premier champ de saisie\n",
    "    N = int(entryNombre1.get())\n",
    "    N2 = 2*N\n",
    "    # suppression de la valeur existante dans le second champ \n",
    "    entryNombre2.delete(0,END)\n",
    "    # insértion de la nouvelle valeur N2 = 2* N\n",
    "    entryNombre2.insert(0 , N2)\n",
    "  \n",
    "# création de la fenêtre principale    \n",
    "fen = Tk()\n",
    "fen.geometry(\"400x200\")\n",
    "\n",
    "# Création du premier champ de saisie avec le label associé \n",
    "lblnombre1 = Label(fen, text = \"Entrer la valeur de N\")\n",
    "lblnombre1.place( x = 50 , y = 20)\n",
    "entryNombre1 = Entry(fen)\n",
    "entryNombre1.place(x =200 , y = 20)\n",
    "\n",
    "# Création du 2ème champ de saisie avec le label associé \n",
    "lblnombre2 = Label(fen, text = \"Voici le double:\")\n",
    "lblnombre2.place( x = 50 , y = 50)\n",
    "entryNombre2 = Entry(fen)\n",
    "entryNombre2.place(x =200 , y = 50)\n",
    "\n",
    "# Création de bouton qui valide l'action\n",
    "Valider = Button(fen , text = \"Valider l'operation\" , command = action)\n",
    "Valider.place( x =200 , y = 80 , width = 165)\n",
    "                \n",
    "fen.mainloop()"
   ]
  },
  {
   "cell_type": "markdown",
   "id": "c264b097",
   "metadata": {},
   "source": [
    "Écrire un programme en Python qui permet de lister les diviseurs d’un entier N donné.\n",
    "Créer un programme en Python qui propose à l’utilisateur une fenêtre Tkinter lui demandant de saisir un entier N et lui renvoie tous les diviseurs de N."
   ]
  },
  {
   "cell_type": "code",
   "execution_count": null,
   "id": "0104dffd",
   "metadata": {},
   "outputs": [],
   "source": [
    "def listeDiviseurs(N):\n",
    "    # initialisation de la liste des diviseurs à vide L = []\n",
    "    L = []\n",
    "    # On parcourt les entiers: 1  2  3 ...  N\n",
    "    for i in range (1, N+1):\n",
    "        # on test si l'entier i est un diviseur de N et on l'ajoute à La liste des diviseurs L\n",
    "        if N%i == 0 :\n",
    "            L.append(i)\n",
    "    return L\n",
    "# On test l'algorithme\n",
    "print(\"La liste des diviseurs de 18 est : \" ,listeDiviseurs(18))\n",
    "# Affiche: La liste des diviseurs de 18 est :  [1, 2, 3, 6, 9, 18]"
   ]
  },
  {
   "cell_type": "markdown",
   "id": "163e5bf5",
   "metadata": {},
   "source": [
    "2. La liste des diviseurs d'un entier sous forme d'application graphique"
   ]
  },
  {
   "cell_type": "code",
   "execution_count": null,
   "id": "b3d4edc4",
   "metadata": {},
   "outputs": [],
   "source": [
    "from tkinter import *\n",
    " \n",
    "# méthode qui réalise l'action           \n",
    "def action():\n",
    "    \n",
    "    # récuperation de la valeur du champ de saisie\n",
    "    N = int(entryNombre1.get())\n",
    "    lblDiviseurs['text'] = 'Diviseurs de N   : '\n",
    "    \n",
    "    # chercher les diviseur s de n en parcourant tous les entiers de 1 à n\n",
    "    for i in range(1,N+1):\n",
    "        if(N%i == 0):\n",
    "            lblDiviseurs['text']=lblDiviseurs['text'] + \"   \"+ str(i) + \"   \"\n",
    "\n",
    "# Création de la fenêtre principale    \n",
    "fen = Tk()\n",
    "fen.geometry(\"400x175\")\n",
    "\n",
    "# champ de saisie de l'entier N avec le label associé\n",
    "lblnombre1 = Label(fen, text = \"Entrer la valeur de N\")\n",
    "lblnombre1.place( x = 10 , y = 20)\n",
    "entryNombre1 = Entry(fen) \n",
    "entryNombre1.place(x =200 , y = 20)\n",
    "\n",
    "# Label qui récupère le résultat\n",
    "lblDiviseurs = Label(fen, text = \"Les diviseurs de N :\")\n",
    "lblDiviseurs.place( x = 10 , y = 50)\n",
    "\n",
    "# bouton de validation\n",
    "Valider = Button(fen , text = \"Valider l'opération\" , width=20 , command = action)\n",
    "Valider.place( x =200 , y = 90)\n",
    "\n",
    "fen.mainloop()"
   ]
  }
 ],
 "metadata": {
  "kernelspec": {
   "display_name": "Python 3 (ipykernel)",
   "language": "python",
   "name": "python3"
  },
  "language_info": {
   "codemirror_mode": {
    "name": "ipython",
    "version": 3
   },
   "file_extension": ".py",
   "mimetype": "text/x-python",
   "name": "python",
   "nbconvert_exporter": "python",
   "pygments_lexer": "ipython3",
   "version": "3.10.0"
  }
 },
 "nbformat": 4,
 "nbformat_minor": 5
}
